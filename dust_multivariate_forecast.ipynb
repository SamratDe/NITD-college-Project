{
  "nbformat": 4,
  "nbformat_minor": 0,
  "metadata": {
    "colab": {
      "name": "pollution.ipynb",
      "provenance": [],
      "collapsed_sections": [],
      "toc_visible": true,
      "mount_file_id": "1f5Dv-ewXm2bbm-kLfkW1x1qCAG6K1Qgr",
      "authorship_tag": "ABX9TyNXeidgZ+kHbL7+PizZ3x3k"
    },
    "kernelspec": {
      "name": "python3",
      "display_name": "Python 3"
    }
  },
  "cells": [
    {
      "cell_type": "code",
      "metadata": {
        "id": "Q5SLX17v5z3H",
        "colab_type": "code",
        "colab": {}
      },
      "source": [
        "import numpy as np\n",
        "import matplotlib.pyplot as plt\n",
        "import pandas as pd"
      ],
      "execution_count": 0,
      "outputs": []
    },
    {
      "cell_type": "code",
      "metadata": {
        "id": "PFtWaCTeF-GE",
        "colab_type": "code",
        "colab": {}
      },
      "source": [
        "df = pd.read_csv('/content/drive/My Drive/NITD Internship/nitdata.csv', index_col='Date', parse_dates=True)"
      ],
      "execution_count": 0,
      "outputs": []
    },
    {
      "cell_type": "code",
      "metadata": {
        "id": "Jd45Nx-r7l4J",
        "colab_type": "code",
        "outputId": "0d1cb810-63ea-442e-bfbf-0394833711f8",
        "colab": {
          "base_uri": "https://localhost:8080/",
          "height": 235
        }
      },
      "source": [
        "df.head()"
      ],
      "execution_count": 10,
      "outputs": [
        {
          "output_type": "execute_result",
          "data": {
            "text/html": [
              "<div>\n",
              "<style scoped>\n",
              "    .dataframe tbody tr th:only-of-type {\n",
              "        vertical-align: middle;\n",
              "    }\n",
              "\n",
              "    .dataframe tbody tr th {\n",
              "        vertical-align: top;\n",
              "    }\n",
              "\n",
              "    .dataframe thead th {\n",
              "        text-align: right;\n",
              "    }\n",
              "</style>\n",
              "<table border=\"1\" class=\"dataframe\">\n",
              "  <thead>\n",
              "    <tr style=\"text-align: right;\">\n",
              "      <th></th>\n",
              "      <th>Temperature</th>\n",
              "      <th>Humidity</th>\n",
              "      <th>Carbon Monoxide</th>\n",
              "      <th>Nitrogen Dioxide</th>\n",
              "      <th>Dust (PM2.5)</th>\n",
              "      <th>Dust (PM10)</th>\n",
              "    </tr>\n",
              "    <tr>\n",
              "      <th>Date</th>\n",
              "      <th></th>\n",
              "      <th></th>\n",
              "      <th></th>\n",
              "      <th></th>\n",
              "      <th></th>\n",
              "      <th></th>\n",
              "    </tr>\n",
              "  </thead>\n",
              "  <tbody>\n",
              "    <tr>\n",
              "      <th>2020-05-22 18:55:07</th>\n",
              "      <td>27</td>\n",
              "      <td>66</td>\n",
              "      <td>46</td>\n",
              "      <td>0.27</td>\n",
              "      <td>44</td>\n",
              "      <td>61</td>\n",
              "    </tr>\n",
              "    <tr>\n",
              "      <th>2020-05-22 18:55:01</th>\n",
              "      <td>27</td>\n",
              "      <td>66</td>\n",
              "      <td>46</td>\n",
              "      <td>0.27</td>\n",
              "      <td>43</td>\n",
              "      <td>60</td>\n",
              "    </tr>\n",
              "    <tr>\n",
              "      <th>2020-05-22 18:54:57</th>\n",
              "      <td>27</td>\n",
              "      <td>66</td>\n",
              "      <td>46</td>\n",
              "      <td>0.27</td>\n",
              "      <td>43</td>\n",
              "      <td>60</td>\n",
              "    </tr>\n",
              "    <tr>\n",
              "      <th>2020-05-22 18:54:51</th>\n",
              "      <td>27</td>\n",
              "      <td>66</td>\n",
              "      <td>46</td>\n",
              "      <td>0.27</td>\n",
              "      <td>43</td>\n",
              "      <td>60</td>\n",
              "    </tr>\n",
              "    <tr>\n",
              "      <th>2020-05-22 18:54:47</th>\n",
              "      <td>27</td>\n",
              "      <td>66</td>\n",
              "      <td>46</td>\n",
              "      <td>0.27</td>\n",
              "      <td>43</td>\n",
              "      <td>60</td>\n",
              "    </tr>\n",
              "  </tbody>\n",
              "</table>\n",
              "</div>"
            ],
            "text/plain": [
              "                     Temperature  Humidity  ...  Dust (PM2.5)  Dust (PM10)\n",
              "Date                                        ...                           \n",
              "2020-05-22 18:55:07           27        66  ...            44           61\n",
              "2020-05-22 18:55:01           27        66  ...            43           60\n",
              "2020-05-22 18:54:57           27        66  ...            43           60\n",
              "2020-05-22 18:54:51           27        66  ...            43           60\n",
              "2020-05-22 18:54:47           27        66  ...            43           60\n",
              "\n",
              "[5 rows x 6 columns]"
            ]
          },
          "metadata": {
            "tags": []
          },
          "execution_count": 10
        }
      ]
    },
    {
      "cell_type": "code",
      "metadata": {
        "id": "0EMP5OEhwtIJ",
        "colab_type": "code",
        "colab": {}
      },
      "source": [
        "# converting all 0 in df to NaN\n",
        "df.replace(to_replace=0, value=np.nan, inplace=True)\n",
        "# filling them with mean\n",
        "df.fillna(df.mean(), inplace=True)\n",
        "df.columns = ['temp', 'humidity', 'co', 'no2' , 'dust1', 'dust2']"
      ],
      "execution_count": 0,
      "outputs": []
    },
    {
      "cell_type": "code",
      "metadata": {
        "id": "WFjvp3ER4pzE",
        "colab_type": "code",
        "colab": {}
      },
      "source": [
        "# keeping only one occurence of date time and merging duplicates by doing mean of them\n",
        "# and also sorting the index in ascending order\n",
        "df = df.groupby('Date').mean()"
      ],
      "execution_count": 0,
      "outputs": []
    },
    {
      "cell_type": "code",
      "metadata": {
        "id": "4GaolIjb5JBi",
        "colab_type": "code",
        "outputId": "64ebb753-2bbb-426b-8365-d19869588efe",
        "colab": {
          "base_uri": "https://localhost:8080/",
          "height": 204
        }
      },
      "source": [
        "df.head(4)"
      ],
      "execution_count": 13,
      "outputs": [
        {
          "output_type": "execute_result",
          "data": {
            "text/html": [
              "<div>\n",
              "<style scoped>\n",
              "    .dataframe tbody tr th:only-of-type {\n",
              "        vertical-align: middle;\n",
              "    }\n",
              "\n",
              "    .dataframe tbody tr th {\n",
              "        vertical-align: top;\n",
              "    }\n",
              "\n",
              "    .dataframe thead th {\n",
              "        text-align: right;\n",
              "    }\n",
              "</style>\n",
              "<table border=\"1\" class=\"dataframe\">\n",
              "  <thead>\n",
              "    <tr style=\"text-align: right;\">\n",
              "      <th></th>\n",
              "      <th>temp</th>\n",
              "      <th>humidity</th>\n",
              "      <th>co</th>\n",
              "      <th>no2</th>\n",
              "      <th>dust1</th>\n",
              "      <th>dust2</th>\n",
              "    </tr>\n",
              "    <tr>\n",
              "      <th>Date</th>\n",
              "      <th></th>\n",
              "      <th></th>\n",
              "      <th></th>\n",
              "      <th></th>\n",
              "      <th></th>\n",
              "      <th></th>\n",
              "    </tr>\n",
              "  </thead>\n",
              "  <tbody>\n",
              "    <tr>\n",
              "      <th>2020-05-16 02:05:21</th>\n",
              "      <td>23</td>\n",
              "      <td>67</td>\n",
              "      <td>43</td>\n",
              "      <td>1.43</td>\n",
              "      <td>23.0</td>\n",
              "      <td>32.0</td>\n",
              "    </tr>\n",
              "    <tr>\n",
              "      <th>2020-05-16 02:05:26</th>\n",
              "      <td>23</td>\n",
              "      <td>67</td>\n",
              "      <td>44</td>\n",
              "      <td>1.43</td>\n",
              "      <td>23.0</td>\n",
              "      <td>32.0</td>\n",
              "    </tr>\n",
              "    <tr>\n",
              "      <th>2020-05-16 02:06:01</th>\n",
              "      <td>23</td>\n",
              "      <td>67</td>\n",
              "      <td>44</td>\n",
              "      <td>1.43</td>\n",
              "      <td>23.0</td>\n",
              "      <td>32.0</td>\n",
              "    </tr>\n",
              "    <tr>\n",
              "      <th>2020-05-16 02:06:18</th>\n",
              "      <td>23</td>\n",
              "      <td>67</td>\n",
              "      <td>44</td>\n",
              "      <td>1.43</td>\n",
              "      <td>24.0</td>\n",
              "      <td>34.0</td>\n",
              "    </tr>\n",
              "  </tbody>\n",
              "</table>\n",
              "</div>"
            ],
            "text/plain": [
              "                     temp  humidity  co   no2  dust1  dust2\n",
              "Date                                                       \n",
              "2020-05-16 02:05:21    23        67  43  1.43   23.0   32.0\n",
              "2020-05-16 02:05:26    23        67  44  1.43   23.0   32.0\n",
              "2020-05-16 02:06:01    23        67  44  1.43   23.0   32.0\n",
              "2020-05-16 02:06:18    23        67  44  1.43   24.0   34.0"
            ]
          },
          "metadata": {
            "tags": []
          },
          "execution_count": 13
        }
      ]
    },
    {
      "cell_type": "code",
      "metadata": {
        "id": "M9E8OGgz90ta",
        "colab_type": "code",
        "colab": {}
      },
      "source": [
        "dataset = pd.DataFrame()\n",
        "dataset['temp'] = df.temp.resample('H').mean()\n",
        "dataset['humidity'] = df.humidity.resample('H').mean()\n",
        "dataset['co'] = df.co.resample('H').mean()\n",
        "dataset['no2'] = df.no2.resample('H').mean()\n",
        "dataset['dust1'] = df.dust1.resample('H').mean()\n",
        "dataset['dust2'] = df.dust2.resample('H').mean()"
      ],
      "execution_count": 0,
      "outputs": []
    },
    {
      "cell_type": "code",
      "metadata": {
        "id": "_tIC_03jDoLj",
        "colab_type": "code",
        "outputId": "13124aa1-1b15-4749-8a82-2ae72663787f",
        "colab": {
          "base_uri": "https://localhost:8080/",
          "height": 204
        }
      },
      "source": [
        "dataset.head(4)"
      ],
      "execution_count": 15,
      "outputs": [
        {
          "output_type": "execute_result",
          "data": {
            "text/html": [
              "<div>\n",
              "<style scoped>\n",
              "    .dataframe tbody tr th:only-of-type {\n",
              "        vertical-align: middle;\n",
              "    }\n",
              "\n",
              "    .dataframe tbody tr th {\n",
              "        vertical-align: top;\n",
              "    }\n",
              "\n",
              "    .dataframe thead th {\n",
              "        text-align: right;\n",
              "    }\n",
              "</style>\n",
              "<table border=\"1\" class=\"dataframe\">\n",
              "  <thead>\n",
              "    <tr style=\"text-align: right;\">\n",
              "      <th></th>\n",
              "      <th>temp</th>\n",
              "      <th>humidity</th>\n",
              "      <th>co</th>\n",
              "      <th>no2</th>\n",
              "      <th>dust1</th>\n",
              "      <th>dust2</th>\n",
              "    </tr>\n",
              "    <tr>\n",
              "      <th>Date</th>\n",
              "      <th></th>\n",
              "      <th></th>\n",
              "      <th></th>\n",
              "      <th></th>\n",
              "      <th></th>\n",
              "      <th></th>\n",
              "    </tr>\n",
              "  </thead>\n",
              "  <tbody>\n",
              "    <tr>\n",
              "      <th>2020-05-16 02:00:00</th>\n",
              "      <td>22.950959</td>\n",
              "      <td>67.974414</td>\n",
              "      <td>43.505330</td>\n",
              "      <td>1.456759</td>\n",
              "      <td>25.574704</td>\n",
              "      <td>35.978933</td>\n",
              "    </tr>\n",
              "    <tr>\n",
              "      <th>2020-05-16 03:00:00</th>\n",
              "      <td>22.202797</td>\n",
              "      <td>72.304196</td>\n",
              "      <td>43.569930</td>\n",
              "      <td>1.437290</td>\n",
              "      <td>25.710770</td>\n",
              "      <td>36.077272</td>\n",
              "    </tr>\n",
              "    <tr>\n",
              "      <th>2020-05-16 04:00:00</th>\n",
              "      <td>22.026984</td>\n",
              "      <td>74.628571</td>\n",
              "      <td>43.969841</td>\n",
              "      <td>1.325508</td>\n",
              "      <td>56.169221</td>\n",
              "      <td>78.278348</td>\n",
              "    </tr>\n",
              "    <tr>\n",
              "      <th>2020-05-16 05:00:00</th>\n",
              "      <td>22.000000</td>\n",
              "      <td>75.634615</td>\n",
              "      <td>44.000000</td>\n",
              "      <td>1.131521</td>\n",
              "      <td>89.782406</td>\n",
              "      <td>124.723986</td>\n",
              "    </tr>\n",
              "  </tbody>\n",
              "</table>\n",
              "</div>"
            ],
            "text/plain": [
              "                          temp   humidity  ...      dust1       dust2\n",
              "Date                                       ...                       \n",
              "2020-05-16 02:00:00  22.950959  67.974414  ...  25.574704   35.978933\n",
              "2020-05-16 03:00:00  22.202797  72.304196  ...  25.710770   36.077272\n",
              "2020-05-16 04:00:00  22.026984  74.628571  ...  56.169221   78.278348\n",
              "2020-05-16 05:00:00  22.000000  75.634615  ...  89.782406  124.723986\n",
              "\n",
              "[4 rows x 6 columns]"
            ]
          },
          "metadata": {
            "tags": []
          },
          "execution_count": 15
        }
      ]
    },
    {
      "cell_type": "code",
      "metadata": {
        "id": "c7p3Oa-TPR3Q",
        "colab_type": "code",
        "outputId": "1be8c0ff-9a8e-4677-ea9c-c14e38d20af1",
        "colab": {
          "base_uri": "https://localhost:8080/",
          "height": 136
        }
      },
      "source": [
        "dataset.isnull().sum()"
      ],
      "execution_count": 16,
      "outputs": [
        {
          "output_type": "execute_result",
          "data": {
            "text/plain": [
              "temp        0\n",
              "humidity    0\n",
              "co          0\n",
              "no2         0\n",
              "dust1       0\n",
              "dust2       0\n",
              "dtype: int64"
            ]
          },
          "metadata": {
            "tags": []
          },
          "execution_count": 16
        }
      ]
    },
    {
      "cell_type": "code",
      "metadata": {
        "id": "PeEpkwZwGfFV",
        "colab_type": "code",
        "outputId": "ef9e21ab-a4ba-4c1e-c2aa-82a7242e39df",
        "colab": {
          "base_uri": "https://localhost:8080/",
          "height": 266
        }
      },
      "source": [
        "values = dataset.values\n",
        "# specify columns to plot\n",
        "groups = [0, 1, 2, 3, 4, 5]\n",
        "i = 1\n",
        "# plot each column\n",
        "plt.figure()\n",
        "for group in groups:\n",
        "\tplt.subplot(len(groups), 1, i)\n",
        "\tplt.plot(values[:, group])\n",
        "\tplt.title(dataset.columns[group], y=0.5, loc='right')\n",
        "\ti += 1\n",
        "plt.show()"
      ],
      "execution_count": 17,
      "outputs": [
        {
          "output_type": "display_data",
          "data": {
            "image/png": "[encoded data removed]",
            "text/plain": [
              "<Figure size 432x288 with 6 Axes>"
            ]
          },
          "metadata": {
            "tags": [],
            "needs_background": "light"
          }
        }
      ]
    },
    {
      "cell_type": "code",
      "metadata": {
        "id": "lpxAF4iXwxNM",
        "colab_type": "code",
        "colab": {
          "base_uri": "https://localhost:8080/",
          "height": 34
        },
        "outputId": "444c805a-1b8f-4dd0-9739-36a2d20a5c91"
      },
      "source": [
        "dataset.index.freq"
      ],
      "execution_count": 18,
      "outputs": [
        {
          "output_type": "execute_result",
          "data": {
            "text/plain": [
              "<Hour>"
            ]
          },
          "metadata": {
            "tags": []
          },
          "execution_count": 18
        }
      ]
    },
    {
      "cell_type": "code",
      "metadata": {
        "id": "6vlPNnaEH66z",
        "colab_type": "code",
        "colab": {}
      },
      "source": [
        "from statsmodels.tsa.seasonal import seasonal_decompose"
      ],
      "execution_count": 0,
      "outputs": []
    },
    {
      "cell_type": "code",
      "metadata": {
        "id": "vBun7CjzL9Qu",
        "colab_type": "code",
        "outputId": "aa690f5a-d4ea-43cf-8b19-433cf0810606",
        "colab": {
          "base_uri": "https://localhost:8080/",
          "height": 301
        }
      },
      "source": [
        "results = seasonal_decompose(dataset['dust1'])\n",
        "results.plot();"
      ],
      "execution_count": 20,
      "outputs": [
        {
          "output_type": "display_data",
          "data": {
            "image/png": "[encoded data removed]",
            "text/plain": [
              "<Figure size 432x288 with 4 Axes>"
            ]
          },
          "metadata": {
            "tags": [],
            "needs_background": "light"
          }
        }
      ]
    },
    {
      "cell_type": "code",
      "metadata": {
        "id": "DOKs5xPuNBwn",
        "colab_type": "code",
        "outputId": "01f3e290-e700-4b12-d197-147e00b0106f",
        "colab": {
          "base_uri": "https://localhost:8080/",
          "height": 300
        }
      },
      "source": [
        "results = seasonal_decompose(dataset['dust2'])\n",
        "results.plot();"
      ],
      "execution_count": 21,
      "outputs": [
        {
          "output_type": "display_data",
          "data": {
            "image/png": "[encoded data removed]",
            "text/plain": [
              "<Figure size 432x288 with 4 Axes>"
            ]
          },
          "metadata": {
            "tags": [],
            "needs_background": "light"
          }
        }
      ]
    },
    {
      "cell_type": "code",
      "metadata": {
        "id": "kl0-EBtiPHUm",
        "colab_type": "code",
        "colab": {}
      },
      "source": [
        "def convert(data, n_in=1, n_out=1, dropnan=True):\n",
        "    n_vars = 1\n",
        "    if type(data) is not list:\n",
        "        n_vars = data.shape[1]\n",
        "    df = pd.DataFrame(data)\n",
        "    cols, names = list(), list()\n",
        "    for i in range(n_in, 0, -1):\n",
        "        cols.append(df.shift(i))\n",
        "        names += [('var%d(t-%d)' % (j+1, i)) for j in range(n_vars)]\n",
        "    for i in range(0, n_out):\n",
        "        cols.append(df.shift(-i))\n",
        "        if i == 0:\n",
        "            names += [('var%d(t)' % (j+1)) for j in range(n_vars)]\n",
        "        else:\n",
        "            names += [('var%d(t+%d)' % (j+1, i)) for j in range(n_vars)]\n",
        "    total = pd.concat(cols, axis=1)\n",
        "    total.columns = names\n",
        "    if dropnan:\n",
        "        total.dropna(inplace=True)\n",
        "    return total"
      ],
      "execution_count": 0,
      "outputs": []
    },
    {
      "cell_type": "code",
      "metadata": {
        "id": "fhE-NW0EOwGV",
        "colab_type": "code",
        "outputId": "9991cc3a-f65e-4932-c68e-373eed09dd31",
        "colab": {
          "base_uri": "https://localhost:8080/",
          "height": 204
        }
      },
      "source": [
        "# predicting for dust1 i.e Dust (PM2.5)\n",
        "dataset1 = dataset.drop('dust2', axis=1)\n",
        "dataset1.head(4)"
      ],
      "execution_count": 23,
      "outputs": [
        {
          "output_type": "execute_result",
          "data": {
            "text/html": [
              "<div>\n",
              "<style scoped>\n",
              "    .dataframe tbody tr th:only-of-type {\n",
              "        vertical-align: middle;\n",
              "    }\n",
              "\n",
              "    .dataframe tbody tr th {\n",
              "        vertical-align: top;\n",
              "    }\n",
              "\n",
              "    .dataframe thead th {\n",
              "        text-align: right;\n",
              "    }\n",
              "</style>\n",
              "<table border=\"1\" class=\"dataframe\">\n",
              "  <thead>\n",
              "    <tr style=\"text-align: right;\">\n",
              "      <th></th>\n",
              "      <th>temp</th>\n",
              "      <th>humidity</th>\n",
              "      <th>co</th>\n",
              "      <th>no2</th>\n",
              "      <th>dust1</th>\n",
              "    </tr>\n",
              "    <tr>\n",
              "      <th>Date</th>\n",
              "      <th></th>\n",
              "      <th></th>\n",
              "      <th></th>\n",
              "      <th></th>\n",
              "      <th></th>\n",
              "    </tr>\n",
              "  </thead>\n",
              "  <tbody>\n",
              "    <tr>\n",
              "      <th>2020-05-16 02:00:00</th>\n",
              "      <td>22.950959</td>\n",
              "      <td>67.974414</td>\n",
              "      <td>43.505330</td>\n",
              "      <td>1.456759</td>\n",
              "      <td>25.574704</td>\n",
              "    </tr>\n",
              "    <tr>\n",
              "      <th>2020-05-16 03:00:00</th>\n",
              "      <td>22.202797</td>\n",
              "      <td>72.304196</td>\n",
              "      <td>43.569930</td>\n",
              "      <td>1.437290</td>\n",
              "      <td>25.710770</td>\n",
              "    </tr>\n",
              "    <tr>\n",
              "      <th>2020-05-16 04:00:00</th>\n",
              "      <td>22.026984</td>\n",
              "      <td>74.628571</td>\n",
              "      <td>43.969841</td>\n",
              "      <td>1.325508</td>\n",
              "      <td>56.169221</td>\n",
              "    </tr>\n",
              "    <tr>\n",
              "      <th>2020-05-16 05:00:00</th>\n",
              "      <td>22.000000</td>\n",
              "      <td>75.634615</td>\n",
              "      <td>44.000000</td>\n",
              "      <td>1.131521</td>\n",
              "      <td>89.782406</td>\n",
              "    </tr>\n",
              "  </tbody>\n",
              "</table>\n",
              "</div>"
            ],
            "text/plain": [
              "                          temp   humidity         co       no2      dust1\n",
              "Date                                                                     \n",
              "2020-05-16 02:00:00  22.950959  67.974414  43.505330  1.456759  25.574704\n",
              "2020-05-16 03:00:00  22.202797  72.304196  43.569930  1.437290  25.710770\n",
              "2020-05-16 04:00:00  22.026984  74.628571  43.969841  1.325508  56.169221\n",
              "2020-05-16 05:00:00  22.000000  75.634615  44.000000  1.131521  89.782406"
            ]
          },
          "metadata": {
            "tags": []
          },
          "execution_count": 23
        }
      ]
    },
    {
      "cell_type": "code",
      "metadata": {
        "id": "x7jFB-NZLZfJ",
        "colab_type": "code",
        "colab": {}
      },
      "source": [
        "from sklearn.preprocessing import MinMaxScaler\n",
        "values = dataset1.values\n",
        "scaler = MinMaxScaler(feature_range=(0, 1))\n",
        "scaled_data = scaler.fit_transform(values)\n",
        "reframed = convert(scaled_data)"
      ],
      "execution_count": 0,
      "outputs": []
    },
    {
      "cell_type": "code",
      "metadata": {
        "id": "CC-XIwYvPpSA",
        "colab_type": "code",
        "colab": {}
      },
      "source": [
        "reframed.drop(reframed.columns[[5,6,7,8]], axis=1, inplace=True)"
      ],
      "execution_count": 0,
      "outputs": []
    },
    {
      "cell_type": "code",
      "metadata": {
        "id": "ujurwRK3MejY",
        "colab_type": "code",
        "outputId": "818fc892-ca6a-43b8-f1e6-4d7ae4010482",
        "colab": {
          "base_uri": "https://localhost:8080/",
          "height": 204
        }
      },
      "source": [
        "reframed.head()"
      ],
      "execution_count": 26,
      "outputs": [
        {
          "output_type": "execute_result",
          "data": {
            "text/html": [
              "<div>\n",
              "<style scoped>\n",
              "    .dataframe tbody tr th:only-of-type {\n",
              "        vertical-align: middle;\n",
              "    }\n",
              "\n",
              "    .dataframe tbody tr th {\n",
              "        vertical-align: top;\n",
              "    }\n",
              "\n",
              "    .dataframe thead th {\n",
              "        text-align: right;\n",
              "    }\n",
              "</style>\n",
              "<table border=\"1\" class=\"dataframe\">\n",
              "  <thead>\n",
              "    <tr style=\"text-align: right;\">\n",
              "      <th></th>\n",
              "      <th>var1(t-1)</th>\n",
              "      <th>var2(t-1)</th>\n",
              "      <th>var3(t-1)</th>\n",
              "      <th>var4(t-1)</th>\n",
              "      <th>var5(t-1)</th>\n",
              "      <th>var5(t)</th>\n",
              "    </tr>\n",
              "  </thead>\n",
              "  <tbody>\n",
              "    <tr>\n",
              "      <th>1</th>\n",
              "      <td>0.196735</td>\n",
              "      <td>0.648653</td>\n",
              "      <td>0.344431</td>\n",
              "      <td>0.917015</td>\n",
              "      <td>0.258142</td>\n",
              "      <td>0.259714</td>\n",
              "    </tr>\n",
              "    <tr>\n",
              "      <th>2</th>\n",
              "      <td>0.166436</td>\n",
              "      <td>0.704367</td>\n",
              "      <td>0.346663</td>\n",
              "      <td>0.903566</td>\n",
              "      <td>0.259714</td>\n",
              "      <td>0.611632</td>\n",
              "    </tr>\n",
              "    <tr>\n",
              "      <th>3</th>\n",
              "      <td>0.159316</td>\n",
              "      <td>0.734277</td>\n",
              "      <td>0.360482</td>\n",
              "      <td>0.826347</td>\n",
              "      <td>0.611632</td>\n",
              "      <td>1.000000</td>\n",
              "    </tr>\n",
              "    <tr>\n",
              "      <th>4</th>\n",
              "      <td>0.158223</td>\n",
              "      <td>0.747222</td>\n",
              "      <td>0.361524</td>\n",
              "      <td>0.692341</td>\n",
              "      <td>1.000000</td>\n",
              "      <td>0.945853</td>\n",
              "    </tr>\n",
              "    <tr>\n",
              "      <th>5</th>\n",
              "      <td>0.218245</td>\n",
              "      <td>0.682512</td>\n",
              "      <td>0.361710</td>\n",
              "      <td>0.630232</td>\n",
              "      <td>0.945853</td>\n",
              "      <td>0.306160</td>\n",
              "    </tr>\n",
              "  </tbody>\n",
              "</table>\n",
              "</div>"
            ],
            "text/plain": [
              "   var1(t-1)  var2(t-1)  var3(t-1)  var4(t-1)  var5(t-1)   var5(t)\n",
              "1   0.196735   0.648653   0.344431   0.917015   0.258142  0.259714\n",
              "2   0.166436   0.704367   0.346663   0.903566   0.259714  0.611632\n",
              "3   0.159316   0.734277   0.360482   0.826347   0.611632  1.000000\n",
              "4   0.158223   0.747222   0.361524   0.692341   1.000000  0.945853\n",
              "5   0.218245   0.682512   0.361710   0.630232   0.945853  0.306160"
            ]
          },
          "metadata": {
            "tags": []
          },
          "execution_count": 26
        }
      ]
    },
    {
      "cell_type": "code",
      "metadata": {
        "id": "1V806EXEQGKR",
        "colab_type": "code",
        "outputId": "b9ea2dd5-f1c6-4805-8c5a-9d33e86a3439",
        "colab": {
          "base_uri": "https://localhost:8080/",
          "height": 34
        }
      },
      "source": [
        "# split into train and test sets\n",
        "values = reframed.values\n",
        "n_train_hours = 160 - 24\n",
        "train = values[:n_train_hours, :]\n",
        "test = values[n_train_hours:, :]\n",
        "\n",
        "train_X, train_y = train[:, :-1], train[:, -1]\n",
        "test_X, test_y = test[:, :-1], test[:, -1]\n",
        "\n",
        "# reshape input to be 3D [samples, timesteps, features]\n",
        "train_X = train_X.reshape((train_X.shape[0], 1, train_X.shape[1]))\n",
        "test_X = test_X.reshape((test_X.shape[0], 1, test_X.shape[1]))\n",
        "print(train_X.shape, train_y.shape, test_X.shape, test_y.shape)"
      ],
      "execution_count": 28,
      "outputs": [
        {
          "output_type": "stream",
          "text": [
            "(136, 1, 5) (136,) (24, 1, 5) (24,)\n"
          ],
          "name": "stdout"
        }
      ]
    },
    {
      "cell_type": "code",
      "metadata": {
        "id": "JCqo5rNLWCov",
        "colab_type": "code",
        "outputId": "c23074f6-afbb-41a2-e24e-272d616e0cf8",
        "colab": {
          "base_uri": "https://localhost:8080/",
          "height": 34
        }
      },
      "source": [
        "from keras.models import Sequential\n",
        "from keras.layers import Dense\n",
        "from keras.layers import LSTM"
      ],
      "execution_count": 29,
      "outputs": [
        {
          "output_type": "stream",
          "text": [
            "Using TensorFlow backend.\n"
          ],
          "name": "stderr"
        }
      ]
    },
    {
      "cell_type": "code",
      "metadata": {
        "id": "vk2upOqEcmhp",
        "colab_type": "code",
        "colab": {}
      },
      "source": [
        "model = Sequential()\n",
        "model.add(LSTM(50, input_shape=(train_X.shape[1], train_X.shape[2])))\n",
        "model.add(Dense(1))\n",
        "model.compile(loss='mae', optimizer='adam')"
      ],
      "execution_count": 0,
      "outputs": []
    },
    {
      "cell_type": "code",
      "metadata": {
        "id": "B9Yb7BPQfEuk",
        "colab_type": "code",
        "colab": {
          "base_uri": "https://localhost:8080/",
          "height": 1000
        },
        "outputId": "eb2839cd-aadd-4744-fb7b-72e93942368b"
      },
      "source": [
        "history = model.fit(train_X, train_y, batch_size=32, epochs=50, validation_data=(test_X, test_y), verbose=2, shuffle=False)"
      ],
      "execution_count": 33,
      "outputs": [
        {
          "output_type": "stream",
          "text": [
            "Train on 136 samples, validate on 24 samples\n",
            "Epoch 1/50\n",
            " - 0s - loss: 0.0714 - val_loss: 0.0735\n",
            "Epoch 2/50\n",
            " - 0s - loss: 0.0704 - val_loss: 0.0719\n",
            "Epoch 3/50\n",
            " - 0s - loss: 0.0695 - val_loss: 0.0716\n",
            "Epoch 4/50\n",
            " - 0s - loss: 0.0688 - val_loss: 0.0719\n",
            "Epoch 5/50\n",
            " - 0s - loss: 0.0682 - val_loss: 0.0713\n",
            "Epoch 6/50\n",
            " - 0s - loss: 0.0674 - val_loss: 0.0685\n",
            "Epoch 7/50\n",
            " - 0s - loss: 0.0664 - val_loss: 0.0654\n",
            "Epoch 8/50\n",
            " - 0s - loss: 0.0655 - val_loss: 0.0652\n",
            "Epoch 9/50\n",
            " - 0s - loss: 0.0650 - val_loss: 0.0646\n",
            "Epoch 10/50\n",
            " - 0s - loss: 0.0643 - val_loss: 0.0635\n",
            "Epoch 11/50\n",
            " - 0s - loss: 0.0637 - val_loss: 0.0615\n",
            "Epoch 12/50\n",
            " - 0s - loss: 0.0630 - val_loss: 0.0598\n",
            "Epoch 13/50\n",
            " - 0s - loss: 0.0623 - val_loss: 0.0593\n",
            "Epoch 14/50\n",
            " - 0s - loss: 0.0617 - val_loss: 0.0582\n",
            "Epoch 15/50\n",
            " - 0s - loss: 0.0612 - val_loss: 0.0578\n",
            "Epoch 16/50\n",
            " - 0s - loss: 0.0606 - val_loss: 0.0547\n",
            "Epoch 17/50\n",
            " - 0s - loss: 0.0599 - val_loss: 0.0530\n",
            "Epoch 18/50\n",
            " - 0s - loss: 0.0593 - val_loss: 0.0512\n",
            "Epoch 19/50\n",
            " - 0s - loss: 0.0588 - val_loss: 0.0498\n",
            "Epoch 20/50\n",
            " - 0s - loss: 0.0582 - val_loss: 0.0481\n",
            "Epoch 21/50\n",
            " - 0s - loss: 0.0577 - val_loss: 0.0476\n",
            "Epoch 22/50\n",
            " - 0s - loss: 0.0573 - val_loss: 0.0472\n",
            "Epoch 23/50\n",
            " - 0s - loss: 0.0569 - val_loss: 0.0474\n",
            "Epoch 24/50\n",
            " - 0s - loss: 0.0567 - val_loss: 0.0463\n",
            "Epoch 25/50\n",
            " - 0s - loss: 0.0565 - val_loss: 0.0461\n",
            "Epoch 26/50\n",
            " - 0s - loss: 0.0563 - val_loss: 0.0453\n",
            "Epoch 27/50\n",
            " - 0s - loss: 0.0561 - val_loss: 0.0446\n",
            "Epoch 28/50\n",
            " - 0s - loss: 0.0559 - val_loss: 0.0453\n",
            "Epoch 29/50\n",
            " - 0s - loss: 0.0558 - val_loss: 0.0450\n",
            "Epoch 30/50\n",
            " - 0s - loss: 0.0557 - val_loss: 0.0437\n",
            "Epoch 31/50\n",
            " - 0s - loss: 0.0555 - val_loss: 0.0443\n",
            "Epoch 32/50\n",
            " - 0s - loss: 0.0554 - val_loss: 0.0434\n",
            "Epoch 33/50\n",
            " - 0s - loss: 0.0552 - val_loss: 0.0439\n",
            "Epoch 34/50\n",
            " - 0s - loss: 0.0551 - val_loss: 0.0431\n",
            "Epoch 35/50\n",
            " - 0s - loss: 0.0551 - val_loss: 0.0425\n",
            "Epoch 36/50\n",
            " - 0s - loss: 0.0549 - val_loss: 0.0428\n",
            "Epoch 37/50\n",
            " - 0s - loss: 0.0549 - val_loss: 0.0427\n",
            "Epoch 38/50\n",
            " - 0s - loss: 0.0549 - val_loss: 0.0430\n",
            "Epoch 39/50\n",
            " - 0s - loss: 0.0549 - val_loss: 0.0421\n",
            "Epoch 40/50\n",
            " - 0s - loss: 0.0549 - val_loss: 0.0430\n",
            "Epoch 41/50\n",
            " - 0s - loss: 0.0549 - val_loss: 0.0425\n",
            "Epoch 42/50\n",
            " - 0s - loss: 0.0549 - val_loss: 0.0427\n",
            "Epoch 43/50\n",
            " - 0s - loss: 0.0548 - val_loss: 0.0430\n",
            "Epoch 44/50\n",
            " - 0s - loss: 0.0548 - val_loss: 0.0423\n",
            "Epoch 45/50\n",
            " - 0s - loss: 0.0548 - val_loss: 0.0431\n",
            "Epoch 46/50\n",
            " - 0s - loss: 0.0548 - val_loss: 0.0424\n",
            "Epoch 47/50\n",
            " - 0s - loss: 0.0547 - val_loss: 0.0436\n",
            "Epoch 48/50\n",
            " - 0s - loss: 0.0548 - val_loss: 0.0425\n",
            "Epoch 49/50\n",
            " - 0s - loss: 0.0547 - val_loss: 0.0432\n",
            "Epoch 50/50\n",
            " - 0s - loss: 0.0547 - val_loss: 0.0423\n"
          ],
          "name": "stdout"
        }
      ]
    },
    {
      "cell_type": "code",
      "metadata": {
        "id": "IdljmnFxDAnC",
        "colab_type": "code",
        "colab": {
          "base_uri": "https://localhost:8080/",
          "height": 221
        },
        "outputId": "db6ae08c-38a9-4994-8ee3-c2b43ea632a9"
      },
      "source": [
        "model.summary()"
      ],
      "execution_count": 34,
      "outputs": [
        {
          "output_type": "stream",
          "text": [
            "Model: \"sequential_1\"\n",
            "_________________________________________________________________\n",
            "Layer (type)                 Output Shape              Param #   \n",
            "=================================================================\n",
            "lstm_1 (LSTM)                (None, 50)                11200     \n",
            "_________________________________________________________________\n",
            "dense_1 (Dense)              (None, 1)                 51        \n",
            "=================================================================\n",
            "Total params: 11,251\n",
            "Trainable params: 11,251\n",
            "Non-trainable params: 0\n",
            "_________________________________________________________________\n"
          ],
          "name": "stdout"
        }
      ]
    },
    {
      "cell_type": "code",
      "metadata": {
        "id": "XIpZIRb2DVIa",
        "colab_type": "code",
        "colab": {
          "base_uri": "https://localhost:8080/",
          "height": 269
        },
        "outputId": "e5335963-ca5f-471c-8aa7-af5619423fe8"
      },
      "source": [
        "plt.plot(history.history['loss'], label='train')\n",
        "plt.plot(history.history['val_loss'], label='test')\n",
        "plt.legend()\n",
        "plt.show()"
      ],
      "execution_count": 35,
      "outputs": [
        {
          "output_type": "display_data",
          "data": {
            "image/png": "[encoded data removed]",
            "text/plain": [
              "<Figure size 432x288 with 1 Axes>"
            ]
          },
          "metadata": {
            "tags": [],
            "needs_background": "light"
          }
        }
      ]
    },
    {
      "cell_type": "code",
      "metadata": {
        "id": "ZlK4VDviCWjh",
        "colab_type": "code",
        "colab": {}
      },
      "source": [
        "yhat = model.predict(test_X)"
      ],
      "execution_count": 0,
      "outputs": []
    },
    {
      "cell_type": "code",
      "metadata": {
        "id": "_4isD9XLHu68",
        "colab_type": "code",
        "colab": {}
      },
      "source": [
        "# changed from 3d back to 2d\n",
        "test_X = test_X.reshape((test_X.shape[0], test_X.shape[2]))"
      ],
      "execution_count": 0,
      "outputs": []
    },
    {
      "cell_type": "code",
      "metadata": {
        "id": "ZLC_9znBJfkx",
        "colab_type": "code",
        "colab": {}
      },
      "source": [
        "inv_yhat = np.concatenate((test_X[:,:4], yhat), axis=1)"
      ],
      "execution_count": 0,
      "outputs": []
    },
    {
      "cell_type": "code",
      "metadata": {
        "id": "ws3nKDZiCnxK",
        "colab_type": "code",
        "colab": {}
      },
      "source": [
        "# invert scaling for forecast\n",
        "inv_yhat = scaler.inverse_transform(inv_yhat)"
      ],
      "execution_count": 0,
      "outputs": []
    },
    {
      "cell_type": "code",
      "metadata": {
        "id": "jNM-alNZQ6kD",
        "colab_type": "code",
        "colab": {}
      },
      "source": [
        "inv_yhat = inv_yhat[:,4]"
      ],
      "execution_count": 0,
      "outputs": []
    },
    {
      "cell_type": "code",
      "metadata": {
        "id": "m6rCIhPmSYVx",
        "colab_type": "code",
        "colab": {}
      },
      "source": [
        "test_y = test_y.reshape((len(test_y), 1))"
      ],
      "execution_count": 0,
      "outputs": []
    },
    {
      "cell_type": "code",
      "metadata": {
        "id": "ebT9DRRNC41K",
        "colab_type": "code",
        "colab": {}
      },
      "source": [
        "# invert scaling for actual\n",
        "inv_y = np.concatenate((test_X[:,:4], test_y), axis=1)\n",
        "inv_y = scaler.inverse_transform(inv_y)"
      ],
      "execution_count": 0,
      "outputs": []
    },
    {
      "cell_type": "code",
      "metadata": {
        "id": "c-3Y_K0-TAuS",
        "colab_type": "code",
        "colab": {}
      },
      "source": [
        "inv_y = inv_y[:,4]"
      ],
      "execution_count": 0,
      "outputs": []
    },
    {
      "cell_type": "code",
      "metadata": {
        "id": "FOXfh1OsDErt",
        "colab_type": "code",
        "outputId": "780d1073-673d-49b8-9698-210beb1c13e3",
        "colab": {
          "base_uri": "https://localhost:8080/",
          "height": 34
        }
      },
      "source": [
        "# calculate RMSE\n",
        "from sklearn.metrics import mean_squared_error\n",
        "rmse = np.sqrt(mean_squared_error(inv_y, inv_yhat))\n",
        "print('Test RMSE: %.3f' % rmse)"
      ],
      "execution_count": 78,
      "outputs": [
        {
          "output_type": "stream",
          "text": [
            "Test RMSE: 4.417\n"
          ],
          "name": "stdout"
        }
      ]
    },
    {
      "cell_type": "code",
      "metadata": {
        "id": "keoUN0WxHMy0",
        "colab_type": "code",
        "outputId": "ff2d2cfe-b3cd-4b33-e82b-3bea1761de86",
        "colab": {
          "base_uri": "https://localhost:8080/",
          "height": 483
        }
      },
      "source": [
        "df1 = pd.DataFrame(data=inv_y)\n",
        "df1['predicted'] = pd.DataFrame(data=inv_yhat)\n",
        "df1.columns = ['given', 'predicted']\n",
        "df1.plot(figsize=(12,8));"
      ],
      "execution_count": 79,
      "outputs": [
        {
          "output_type": "display_data",
          "data": {
            "image/png": "[encoded data removed]",
            "text/plain": [
              "<Figure size 864x576 with 1 Axes>"
            ]
          },
          "metadata": {
            "tags": [],
            "needs_background": "light"
          }
        }
      ]
    }
  ]
}
