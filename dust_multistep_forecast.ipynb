{
  "nbformat": 4,
  "nbformat_minor": 0,
  "metadata": {
    "colab": {
      "name": "dust_multistep_forecast.ipynb",
      "provenance": [],
      "collapsed_sections": [],
      "mount_file_id": "1dSAZhBM-rwJ3pyFDOswOB4kvozaOb4h9",
      "authorship_tag": "ABX9TyOd+F78JE7PZDYQ2chCT56z"
    },
    "kernelspec": {
      "name": "python3",
      "display_name": "Python 3"
    }
  },
  "cells": [
    {
      "cell_type": "code",
      "metadata": {
        "id": "YuJ55iG7p7If",
        "colab_type": "code",
        "outputId": "4bc038ef-990d-487e-98ac-6f61f98c4163",
        "colab": {
          "base_uri": "https://localhost:8080/",
          "height": 34
        }
      },
      "source": [
        "import pandas as pd\n",
        "import numpy as np\n",
        "from pandas import DataFrame\n",
        "from pandas import Series\n",
        "from pandas import concat\n",
        "from pandas import read_csv\n",
        "from pandas import datetime\n",
        "from sklearn.metrics import mean_squared_error\n",
        "from sklearn.preprocessing import MinMaxScaler\n",
        "from keras.models import Sequential\n",
        "from keras.layers import Dense\n",
        "from keras.layers import LSTM\n",
        "from math import sqrt\n",
        "from matplotlib import pyplot\n",
        "from numpy import array"
      ],
      "execution_count": 1,
      "outputs": [
        {
          "output_type": "stream",
          "text": [
            "Using TensorFlow backend.\n"
          ],
          "name": "stderr"
        }
      ]
    },
    {
      "cell_type": "code",
      "metadata": {
        "id": "C_d0F6TjpwDK",
        "colab_type": "code",
        "colab": {}
      },
      "source": [
        "df = pd.read_csv('/content/drive/My Drive/NITD Internship/nitdata.csv', index_col='Date', parse_dates=True)"
      ],
      "execution_count": 0,
      "outputs": []
    },
    {
      "cell_type": "code",
      "metadata": {
        "id": "CIruMc65qIlE",
        "colab_type": "code",
        "colab": {}
      },
      "source": [
        "df.drop(['Temperature', 'Humidity', 'Carbon Monoxide', 'Nitrogen Dioxide', 'Dust (PM10)'], axis=1, inplace=True)"
      ],
      "execution_count": 0,
      "outputs": []
    },
    {
      "cell_type": "code",
      "metadata": {
        "id": "yLdYB8LJqmDg",
        "colab_type": "code",
        "outputId": "fa2db7b8-b55e-4a5e-93a4-26c966eccee3",
        "colab": {
          "base_uri": "https://localhost:8080/",
          "height": 204
        }
      },
      "source": [
        "df.head(4)"
      ],
      "execution_count": 4,
      "outputs": [
        {
          "output_type": "execute_result",
          "data": {
            "text/html": [
              "<div>\n",
              "<style scoped>\n",
              "    .dataframe tbody tr th:only-of-type {\n",
              "        vertical-align: middle;\n",
              "    }\n",
              "\n",
              "    .dataframe tbody tr th {\n",
              "        vertical-align: top;\n",
              "    }\n",
              "\n",
              "    .dataframe thead th {\n",
              "        text-align: right;\n",
              "    }\n",
              "</style>\n",
              "<table border=\"1\" class=\"dataframe\">\n",
              "  <thead>\n",
              "    <tr style=\"text-align: right;\">\n",
              "      <th></th>\n",
              "      <th>Dust (PM2.5)</th>\n",
              "    </tr>\n",
              "    <tr>\n",
              "      <th>Date</th>\n",
              "      <th></th>\n",
              "    </tr>\n",
              "  </thead>\n",
              "  <tbody>\n",
              "    <tr>\n",
              "      <th>2020-05-22 18:55:07</th>\n",
              "      <td>44</td>\n",
              "    </tr>\n",
              "    <tr>\n",
              "      <th>2020-05-22 18:55:01</th>\n",
              "      <td>43</td>\n",
              "    </tr>\n",
              "    <tr>\n",
              "      <th>2020-05-22 18:54:57</th>\n",
              "      <td>43</td>\n",
              "    </tr>\n",
              "    <tr>\n",
              "      <th>2020-05-22 18:54:51</th>\n",
              "      <td>43</td>\n",
              "    </tr>\n",
              "  </tbody>\n",
              "</table>\n",
              "</div>"
            ],
            "text/plain": [
              "                     Dust (PM2.5)\n",
              "Date                             \n",
              "2020-05-22 18:55:07            44\n",
              "2020-05-22 18:55:01            43\n",
              "2020-05-22 18:54:57            43\n",
              "2020-05-22 18:54:51            43"
            ]
          },
          "metadata": {
            "tags": []
          },
          "execution_count": 4
        }
      ]
    },
    {
      "cell_type": "code",
      "metadata": {
        "id": "9nuY8Yq3rRYT",
        "colab_type": "code",
        "colab": {}
      },
      "source": [
        "# converting all 0 in df to NaN\n",
        "df.replace(to_replace=0, value=np.nan, inplace=True)\n",
        "# filling them with mean\n",
        "df.fillna(df.mean(), inplace=True)\n",
        "df.columns = ['dust']"
      ],
      "execution_count": 0,
      "outputs": []
    },
    {
      "cell_type": "code",
      "metadata": {
        "id": "EyLeliEzrr13",
        "colab_type": "code",
        "colab": {}
      },
      "source": [
        "df = df.groupby('Date').mean()"
      ],
      "execution_count": 0,
      "outputs": []
    },
    {
      "cell_type": "code",
      "metadata": {
        "id": "Hapvxe0Wr3IX",
        "colab_type": "code",
        "colab": {}
      },
      "source": [
        "dataset = pd.DataFrame()\n",
        "dataset['dust'] = df.dust.resample('H').mean()"
      ],
      "execution_count": 0,
      "outputs": []
    },
    {
      "cell_type": "code",
      "metadata": {
        "id": "mc-Z9gy0sWeA",
        "colab_type": "code",
        "outputId": "a510e4ce-c13f-4b93-fde0-e9868ef5b48e",
        "colab": {
          "base_uri": "https://localhost:8080/",
          "height": 204
        }
      },
      "source": [
        "dataset.head(4)"
      ],
      "execution_count": 8,
      "outputs": [
        {
          "output_type": "execute_result",
          "data": {
            "text/html": [
              "<div>\n",
              "<style scoped>\n",
              "    .dataframe tbody tr th:only-of-type {\n",
              "        vertical-align: middle;\n",
              "    }\n",
              "\n",
              "    .dataframe tbody tr th {\n",
              "        vertical-align: top;\n",
              "    }\n",
              "\n",
              "    .dataframe thead th {\n",
              "        text-align: right;\n",
              "    }\n",
              "</style>\n",
              "<table border=\"1\" class=\"dataframe\">\n",
              "  <thead>\n",
              "    <tr style=\"text-align: right;\">\n",
              "      <th></th>\n",
              "      <th>dust</th>\n",
              "    </tr>\n",
              "    <tr>\n",
              "      <th>Date</th>\n",
              "      <th></th>\n",
              "    </tr>\n",
              "  </thead>\n",
              "  <tbody>\n",
              "    <tr>\n",
              "      <th>2020-05-16 02:00:00</th>\n",
              "      <td>25.574704</td>\n",
              "    </tr>\n",
              "    <tr>\n",
              "      <th>2020-05-16 03:00:00</th>\n",
              "      <td>25.710770</td>\n",
              "    </tr>\n",
              "    <tr>\n",
              "      <th>2020-05-16 04:00:00</th>\n",
              "      <td>56.169221</td>\n",
              "    </tr>\n",
              "    <tr>\n",
              "      <th>2020-05-16 05:00:00</th>\n",
              "      <td>89.782406</td>\n",
              "    </tr>\n",
              "  </tbody>\n",
              "</table>\n",
              "</div>"
            ],
            "text/plain": [
              "                          dust\n",
              "Date                          \n",
              "2020-05-16 02:00:00  25.574704\n",
              "2020-05-16 03:00:00  25.710770\n",
              "2020-05-16 04:00:00  56.169221\n",
              "2020-05-16 05:00:00  89.782406"
            ]
          },
          "metadata": {
            "tags": []
          },
          "execution_count": 8
        }
      ]
    },
    {
      "cell_type": "code",
      "metadata": {
        "id": "2ur4vGScsc8w",
        "colab_type": "code",
        "outputId": "a07df01d-2399-4f85-b41d-c6f0fa46339a",
        "colab": {
          "base_uri": "https://localhost:8080/",
          "height": 51
        }
      },
      "source": [
        "dataset.isnull().sum()"
      ],
      "execution_count": 9,
      "outputs": [
        {
          "output_type": "execute_result",
          "data": {
            "text/plain": [
              "dust    0\n",
              "dtype: int64"
            ]
          },
          "metadata": {
            "tags": []
          },
          "execution_count": 9
        }
      ]
    },
    {
      "cell_type": "code",
      "metadata": {
        "id": "7qlICgvKsgX1",
        "colab_type": "code",
        "outputId": "3981fef3-2ff3-4eca-ed3a-725048c0ac61",
        "colab": {
          "base_uri": "https://localhost:8080/",
          "height": 355
        }
      },
      "source": [
        "dataset.plot(figsize=(12,5));"
      ],
      "execution_count": 10,
      "outputs": [
        {
          "output_type": "display_data",
          "data": {
            "image/png": "[encoded data removed]",
            "text/plain": [
              "<Figure size 864x360 with 1 Axes>"
            ]
          },
          "metadata": {
            "tags": [],
            "needs_background": "light"
          }
        }
      ]
    },
    {
      "cell_type": "code",
      "metadata": {
        "id": "mYs-qoiQsuxC",
        "colab_type": "code",
        "colab": {}
      },
      "source": [
        "from statsmodels.tsa.seasonal import seasonal_decompose"
      ],
      "execution_count": 0,
      "outputs": []
    },
    {
      "cell_type": "code",
      "metadata": {
        "id": "lm8YP0jXs1qa",
        "colab_type": "code",
        "outputId": "4a3f2941-b5f3-43e9-ed50-14d9b7178a87",
        "colab": {
          "base_uri": "https://localhost:8080/",
          "height": 301
        }
      },
      "source": [
        "results = seasonal_decompose(dataset['dust'])\n",
        "results.plot();"
      ],
      "execution_count": 12,
      "outputs": [
        {
          "output_type": "display_data",
          "data": {
            "image/png": "[encoded data removed]",
            "text/plain": [
              "<Figure size 432x288 with 4 Axes>"
            ]
          },
          "metadata": {
            "tags": [],
            "needs_background": "light"
          }
        }
      ]
    },
    {
      "cell_type": "code",
      "metadata": {
        "id": "G7SVFGMLs92B",
        "colab_type": "code",
        "outputId": "25c6dedf-f456-40e7-c7b9-a3fc77329105",
        "colab": {
          "base_uri": "https://localhost:8080/",
          "height": 170
        }
      },
      "source": [
        "dataset.info()"
      ],
      "execution_count": 13,
      "outputs": [
        {
          "output_type": "stream",
          "text": [
            "<class 'pandas.core.frame.DataFrame'>\n",
            "DatetimeIndex: 161 entries, 2020-05-16 02:00:00 to 2020-05-22 18:00:00\n",
            "Freq: H\n",
            "Data columns (total 1 columns):\n",
            " #   Column  Non-Null Count  Dtype  \n",
            "---  ------  --------------  -----  \n",
            " 0   dust    161 non-null    float64\n",
            "dtypes: float64(1)\n",
            "memory usage: 2.5 KB\n"
          ],
          "name": "stdout"
        }
      ]
    },
    {
      "cell_type": "code",
      "metadata": {
        "id": "1B4dVThrtIuy",
        "colab_type": "code",
        "colab": {}
      },
      "source": [
        "def series_to_supervised(data, n_in=1, n_out=1, dropnan=True):\n",
        "\tn_vars = 1 if type(data) is list else data.shape[1]\n",
        "\tdf = pd.DataFrame(data)\n",
        "\tcols, names = list(), list()\n",
        "\tfor i in range(n_in, 0, -1):\n",
        "\t\tcols.append(df.shift(i))\n",
        "\t\tnames += [('var%d(t-%d)' % (j+1, i)) for j in range(n_vars)]\n",
        "\tfor i in range(0, n_out):\n",
        "\t\tcols.append(df.shift(-i))\n",
        "\t\tif i == 0:\n",
        "\t\t\tnames += [('var%d(t)' % (j+1)) for j in range(n_vars)]\n",
        "\t\telse:\n",
        "\t\t\tnames += [('var%d(t+%d)' % (j+1, i)) for j in range(n_vars)]\n",
        "\ttotal = pd.concat(cols, axis=1)\n",
        "\ttotal.columns = names\n",
        "\tif dropnan:\n",
        "\t\ttotal.dropna(inplace=True)\n",
        "\treturn total"
      ],
      "execution_count": 0,
      "outputs": []
    },
    {
      "cell_type": "code",
      "metadata": {
        "id": "Ww3Y34bs1VCx",
        "colab_type": "code",
        "colab": {}
      },
      "source": [
        "def prepare_data(series, n_test, n_lag, n_seq):\n",
        "\traw_values = series.values\n",
        "\t# rescale values to 0, 1\n",
        "\tscaler = MinMaxScaler(feature_range=(0, 1))\n",
        "\tscaled_values = scaler.fit_transform(raw_values)\n",
        "\tscaled_values = scaled_values.reshape(len(scaled_values), 1)\n",
        "\tsupervised = series_to_supervised(scaled_values)\n",
        "\tsupervised_values = supervised.values\n",
        "\ttrain, test = supervised_values[0:-n_test], supervised_values[-n_test:]\n",
        "\treturn scaler, train, test"
      ],
      "execution_count": 0,
      "outputs": []
    },
    {
      "cell_type": "code",
      "metadata": {
        "id": "x4PSpSWW1A8V",
        "colab_type": "code",
        "colab": {}
      },
      "source": [
        "n_lag = 1\n",
        "n_seq = 1\n",
        "n_test = 24"
      ],
      "execution_count": 0,
      "outputs": []
    },
    {
      "cell_type": "code",
      "metadata": {
        "id": "SEZ3tJMJ39Qf",
        "colab_type": "code",
        "colab": {}
      },
      "source": [
        "scaler, train, test = prepare_data(dataset, n_test, n_lag, n_seq)"
      ],
      "execution_count": 0,
      "outputs": []
    },
    {
      "cell_type": "code",
      "metadata": {
        "id": "rtv2qfloW-uI",
        "colab_type": "code",
        "outputId": "6cf586bc-10f9-40d5-dcb8-50d92c1b7091",
        "colab": {
          "base_uri": "https://localhost:8080/",
          "height": 34
        }
      },
      "source": [
        "train.shape"
      ],
      "execution_count": 20,
      "outputs": [
        {
          "output_type": "execute_result",
          "data": {
            "text/plain": [
              "(136, 2)"
            ]
          },
          "metadata": {
            "tags": []
          },
          "execution_count": 20
        }
      ]
    },
    {
      "cell_type": "code",
      "metadata": {
        "id": "tdZFn5E64LLN",
        "colab_type": "code",
        "colab": {}
      },
      "source": [
        "def fit_lstm(train, n_lag, n_seq, n_batch, nb_epoch, n_neurons):\n",
        "\t# reshape training into [samples, timesteps, features]\n",
        "\tX, y = train[:, 0:n_lag], train[:, n_lag:]\n",
        "\tX = X.reshape(X.shape[0], 1, X.shape[1])\n",
        "\tmodel = Sequential()\n",
        "\tmodel.add(LSTM(n_neurons, batch_input_shape=(n_batch, X.shape[1], X.shape[2]), stateful=True))\n",
        "\tmodel.add(Dense(y.shape[1]))\n",
        "\tmodel.compile(loss='mean_squared_error', optimizer='adam')\n",
        "\tfor i in range(nb_epoch):\n",
        "\t\tmodel.fit(X, y, epochs=1, batch_size=n_batch, verbose=0, shuffle=False)\n",
        "\t\tmodel.reset_states()\n",
        "\treturn model"
      ],
      "execution_count": 0,
      "outputs": []
    },
    {
      "cell_type": "code",
      "metadata": {
        "id": "WtPNBlWX4y8k",
        "colab_type": "code",
        "colab": {}
      },
      "source": [
        "n_epochs = 1500\n",
        "n_batch = 1\n",
        "n_neurons = 1"
      ],
      "execution_count": 0,
      "outputs": []
    },
    {
      "cell_type": "code",
      "metadata": {
        "id": "M692O0pm41k9",
        "colab_type": "code",
        "colab": {}
      },
      "source": [
        "model = fit_lstm(train, n_lag, n_seq, n_batch, n_epochs, n_neurons)"
      ],
      "execution_count": 0,
      "outputs": []
    },
    {
      "cell_type": "code",
      "metadata": {
        "id": "9FZpM-XHaa-x",
        "colab_type": "code",
        "outputId": "94db1f62-b8a1-4707-e953-1453a52566de",
        "colab": {
          "base_uri": "https://localhost:8080/",
          "height": 221
        }
      },
      "source": [
        "model.summary()"
      ],
      "execution_count": 24,
      "outputs": [
        {
          "output_type": "stream",
          "text": [
            "Model: \"sequential_1\"\n",
            "_________________________________________________________________\n",
            "Layer (type)                 Output Shape              Param #   \n",
            "=================================================================\n",
            "lstm_1 (LSTM)                (1, 1)                    12        \n",
            "_________________________________________________________________\n",
            "dense_1 (Dense)              (1, 1)                    2         \n",
            "=================================================================\n",
            "Total params: 14\n",
            "Trainable params: 14\n",
            "Non-trainable params: 0\n",
            "_________________________________________________________________\n"
          ],
          "name": "stdout"
        }
      ]
    },
    {
      "cell_type": "code",
      "metadata": {
        "id": "mdbFTSLLCbip",
        "colab_type": "code",
        "colab": {}
      },
      "source": [
        "def forecast_lstm(model, X, n_batch):\n",
        "\t# reshape input pattern to [samples, timesteps, features]\n",
        "\tX = X.reshape(1, 1, len(X))\n",
        "\tforecast = model.predict(X, batch_size=n_batch)\n",
        "\treturn [x for x in forecast[0, :]]"
      ],
      "execution_count": 0,
      "outputs": []
    },
    {
      "cell_type": "code",
      "metadata": {
        "id": "YHC_v1L17RDK",
        "colab_type": "code",
        "colab": {}
      },
      "source": [
        "def make_forecasts(model, n_batch, train, test, n_lag, n_seq):\n",
        "\tforecasts = list()\n",
        "\tfor i in range(len(test)):\n",
        "\t\tX, y = test[i, 0:n_lag], test[i, n_lag:]\n",
        "\t\tforecast = forecast_lstm(model, X, n_batch)\n",
        "\t\tforecasts.append(forecast)\n",
        "\treturn forecasts"
      ],
      "execution_count": 0,
      "outputs": []
    },
    {
      "cell_type": "code",
      "metadata": {
        "id": "SVRI8lWyC-zs",
        "colab_type": "code",
        "colab": {}
      },
      "source": [
        "forecast_test = make_forecasts(model, n_batch, train, test, n_lag, n_seq)"
      ],
      "execution_count": 0,
      "outputs": []
    },
    {
      "cell_type": "code",
      "metadata": {
        "id": "USFhRi8cHewC",
        "colab_type": "code",
        "colab": {}
      },
      "source": [
        "# inverse data transform on forecasts\n",
        "def inverse_transform(forecasts, scaler):\n",
        "\tinverted = list()\n",
        "\tfor i in range(len(forecasts)):\n",
        "\t\t# create array from forecast\n",
        "\t\tforecast = array(forecasts[i])\n",
        "\t\tforecast = forecast.reshape(1, len(forecast))\n",
        "\t\t# invert scaling\n",
        "\t\tinv_scale = scaler.inverse_transform(forecast)\n",
        "\t\tinv_scale = inv_scale[0, :]\n",
        "\t\tinverted.append(inv_scale)\n",
        "\treturn array(inverted)"
      ],
      "execution_count": 0,
      "outputs": []
    },
    {
      "cell_type": "code",
      "metadata": {
        "id": "N_xxRtHR-DTj",
        "colab_type": "code",
        "colab": {}
      },
      "source": [
        "forecast_test = inverse_transform(forecast_test, scaler)"
      ],
      "execution_count": 0,
      "outputs": []
    },
    {
      "cell_type": "code",
      "metadata": {
        "id": "wzuOlR73BKnK",
        "colab_type": "code",
        "colab": {}
      },
      "source": [
        "actual = [row[n_lag:] for row in test]\n",
        "actual = inverse_transform(actual, scaler)"
      ],
      "execution_count": 0,
      "outputs": []
    },
    {
      "cell_type": "code",
      "metadata": {
        "id": "fhz2XJb1CM2M",
        "colab_type": "code",
        "colab": {}
      },
      "source": [
        "def evaluate_forecasts(test, forecasts, n_lag, n_seq):\n",
        "\tfor i in range(n_seq):\n",
        "\t\tactual = [row[i] for row in test]\n",
        "\t\tpredicted = [forecast[i] for forecast in forecasts]\n",
        "\t\trmse = sqrt(mean_squared_error(actual, predicted))\n",
        "\t\tprint('RMSE: %f' % (rmse))"
      ],
      "execution_count": 0,
      "outputs": []
    },
    {
      "cell_type": "markdown",
      "metadata": {
        "id": "A2t5dHvACyAT",
        "colab_type": "text"
      },
      "source": [
        "RMSE of forecasted data and test set"
      ]
    },
    {
      "cell_type": "code",
      "metadata": {
        "id": "Iz2Gu1TvCaI9",
        "colab_type": "code",
        "colab": {
          "base_uri": "https://localhost:8080/",
          "height": 34
        },
        "outputId": "84b6cb8b-29d4-489c-8b98-f7c414179a23"
      },
      "source": [
        "evaluate_forecasts(actual, forecast_test, n_lag, n_seq)"
      ],
      "execution_count": 48,
      "outputs": [
        {
          "output_type": "stream",
          "text": [
            "RMSE: 3.257588\n"
          ],
          "name": "stdout"
        }
      ]
    },
    {
      "cell_type": "code",
      "metadata": {
        "id": "ATPhha0yCjDw",
        "colab_type": "code",
        "colab": {}
      },
      "source": [
        "def predict(model, n_batch, test, num, n_lag, n_seq):\n",
        "\tforecasts = list()\n",
        "\tprev_X = test[-1, n_lag:]\n",
        "\tfor i in range(num):\n",
        "\t\tX = prev_X\n",
        "\t\tforecast = forecast_lstm(model, X, n_batch)\n",
        "\t\tforecasts.append(forecast)\n",
        "\t\tprev_X = array(forecast)\n",
        "\treturn forecasts"
      ],
      "execution_count": 0,
      "outputs": []
    },
    {
      "cell_type": "markdown",
      "metadata": {
        "id": "awDmBrp9pryw",
        "colab_type": "text"
      },
      "source": [
        "No.of forecast you want to make after the test set -> **num**"
      ]
    },
    {
      "cell_type": "code",
      "metadata": {
        "id": "M0SnjEmVpsIh",
        "colab_type": "code",
        "colab": {}
      },
      "source": [
        "num = 24"
      ],
      "execution_count": 0,
      "outputs": []
    },
    {
      "cell_type": "code",
      "metadata": {
        "id": "uJ8elFzY7uBE",
        "colab_type": "code",
        "colab": {}
      },
      "source": [
        "n_predictions = predict(model, n_batch, test, num, n_lag, n_seq)"
      ],
      "execution_count": 0,
      "outputs": []
    },
    {
      "cell_type": "code",
      "metadata": {
        "id": "mKIfpefTHhcN",
        "colab_type": "code",
        "colab": {}
      },
      "source": [
        "n_predictions = inverse_transform(n_predictions, scaler)"
      ],
      "execution_count": 0,
      "outputs": []
    },
    {
      "cell_type": "code",
      "metadata": {
        "id": "KXxXEPYtu5mx",
        "colab_type": "code",
        "outputId": "b781e218-e5bb-4529-c0b3-a4f8340f5546",
        "colab": {
          "base_uri": "https://localhost:8080/",
          "height": 425
        }
      },
      "source": [
        "n_predictions"
      ],
      "execution_count": 56,
      "outputs": [
        {
          "output_type": "execute_result",
          "data": {
            "text/plain": [
              "array([[36.564922],\n",
              "       [34.468136],\n",
              "       [34.165398],\n",
              "       [33.900215],\n",
              "       [33.700912],\n",
              "       [33.54972 ],\n",
              "       [33.434692],\n",
              "       [33.346973],\n",
              "       [33.279953],\n",
              "       [33.228664],\n",
              "       [33.189373],\n",
              "       [33.159256],\n",
              "       [33.136143],\n",
              "       [33.11841 ],\n",
              "       [33.104782],\n",
              "       [33.09432 ],\n",
              "       [33.086273],\n",
              "       [33.08009 ],\n",
              "       [33.075336],\n",
              "       [33.07169 ],\n",
              "       [33.068882],\n",
              "       [33.066723],\n",
              "       [33.065056],\n",
              "       [33.063786]], dtype=float32)"
            ]
          },
          "metadata": {
            "tags": []
          },
          "execution_count": 56
        }
      ]
    }
  ]
}