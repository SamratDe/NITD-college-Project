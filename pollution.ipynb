{
  "nbformat": 4,
  "nbformat_minor": 0,
  "metadata": {
    "colab": {
      "name": "pollution.ipynb",
      "provenance": [],
      "collapsed_sections": [
        "NIFIjXff8J9F",
        "chpNsr1n8SgK"
      ],
      "toc_visible": true,
      "mount_file_id": "1f5Dv-ewXm2bbm-kLfkW1x1qCAG6K1Qgr",
      "authorship_tag": "ABX9TyP6LQZkoyLGXhqAxjUWejY8"
    },
    "kernelspec": {
      "name": "python3",
      "display_name": "Python 3"
    }
  },
  "cells": [
    {
      "cell_type": "markdown",
      "metadata": {
        "id": "NIFIjXff8J9F",
        "colab_type": "text"
      },
      "source": [
        "# **Importing libraries and dataset**"
      ]
    },
    {
      "cell_type": "code",
      "metadata": {
        "id": "Q5SLX17v5z3H",
        "colab_type": "code",
        "colab": {}
      },
      "source": [
        "import numpy as np\n",
        "import matplotlib.pyplot as plt\n",
        "import pandas as pd"
      ],
      "execution_count": 0,
      "outputs": []
    },
    {
      "cell_type": "markdown",
      "metadata": {
        "id": "chpNsr1n8SgK",
        "colab_type": "text"
      },
      "source": [
        "# **DataFrame & arranging data**"
      ]
    },
    {
      "cell_type": "code",
      "metadata": {
        "id": "PFtWaCTeF-GE",
        "colab_type": "code",
        "colab": {}
      },
      "source": [
        "df = pd.read_csv('/content/drive/My Drive/NITD Internship/nitdata.csv', index_col='Date', parse_dates=True)"
      ],
      "execution_count": 0,
      "outputs": []
    },
    {
      "cell_type": "code",
      "metadata": {
        "id": "MugQyBORib6Q",
        "colab_type": "code",
        "colab": {
          "base_uri": "https://localhost:8080/",
          "height": 450
        },
        "outputId": "06ff9026-86ef-41a8-e79e-46308203ea39"
      },
      "source": [
        "df"
      ],
      "execution_count": 10,
      "outputs": [
        {
          "output_type": "execute_result",
          "data": {
            "text/html": [
              "<div>\n",
              "<style scoped>\n",
              "    .dataframe tbody tr th:only-of-type {\n",
              "        vertical-align: middle;\n",
              "    }\n",
              "\n",
              "    .dataframe tbody tr th {\n",
              "        vertical-align: top;\n",
              "    }\n",
              "\n",
              "    .dataframe thead th {\n",
              "        text-align: right;\n",
              "    }\n",
              "</style>\n",
              "<table border=\"1\" class=\"dataframe\">\n",
              "  <thead>\n",
              "    <tr style=\"text-align: right;\">\n",
              "      <th></th>\n",
              "      <th>Temperature</th>\n",
              "      <th>Humidity</th>\n",
              "      <th>Carbon Monoxide</th>\n",
              "      <th>Nitrogen Dioxide</th>\n",
              "      <th>Dust (PM2.5)</th>\n",
              "      <th>Dust (PM10)</th>\n",
              "    </tr>\n",
              "    <tr>\n",
              "      <th>Date</th>\n",
              "      <th></th>\n",
              "      <th></th>\n",
              "      <th></th>\n",
              "      <th></th>\n",
              "      <th></th>\n",
              "      <th></th>\n",
              "    </tr>\n",
              "  </thead>\n",
              "  <tbody>\n",
              "    <tr>\n",
              "      <th>2020-05-22 18:55:07</th>\n",
              "      <td>27</td>\n",
              "      <td>66</td>\n",
              "      <td>46</td>\n",
              "      <td>0.27</td>\n",
              "      <td>44</td>\n",
              "      <td>61</td>\n",
              "    </tr>\n",
              "    <tr>\n",
              "      <th>2020-05-22 18:55:01</th>\n",
              "      <td>27</td>\n",
              "      <td>66</td>\n",
              "      <td>46</td>\n",
              "      <td>0.27</td>\n",
              "      <td>43</td>\n",
              "      <td>60</td>\n",
              "    </tr>\n",
              "    <tr>\n",
              "      <th>2020-05-22 18:54:57</th>\n",
              "      <td>27</td>\n",
              "      <td>66</td>\n",
              "      <td>46</td>\n",
              "      <td>0.27</td>\n",
              "      <td>43</td>\n",
              "      <td>60</td>\n",
              "    </tr>\n",
              "    <tr>\n",
              "      <th>2020-05-22 18:54:51</th>\n",
              "      <td>27</td>\n",
              "      <td>66</td>\n",
              "      <td>46</td>\n",
              "      <td>0.27</td>\n",
              "      <td>43</td>\n",
              "      <td>60</td>\n",
              "    </tr>\n",
              "    <tr>\n",
              "      <th>2020-05-22 18:54:47</th>\n",
              "      <td>27</td>\n",
              "      <td>66</td>\n",
              "      <td>46</td>\n",
              "      <td>0.27</td>\n",
              "      <td>43</td>\n",
              "      <td>60</td>\n",
              "    </tr>\n",
              "    <tr>\n",
              "      <th>...</th>\n",
              "      <td>...</td>\n",
              "      <td>...</td>\n",
              "      <td>...</td>\n",
              "      <td>...</td>\n",
              "      <td>...</td>\n",
              "      <td>...</td>\n",
              "    </tr>\n",
              "    <tr>\n",
              "      <th>2020-05-16 02:06:36</th>\n",
              "      <td>23</td>\n",
              "      <td>67</td>\n",
              "      <td>44</td>\n",
              "      <td>1.43</td>\n",
              "      <td>24</td>\n",
              "      <td>34</td>\n",
              "    </tr>\n",
              "    <tr>\n",
              "      <th>2020-05-16 02:06:18</th>\n",
              "      <td>23</td>\n",
              "      <td>67</td>\n",
              "      <td>44</td>\n",
              "      <td>1.43</td>\n",
              "      <td>24</td>\n",
              "      <td>34</td>\n",
              "    </tr>\n",
              "    <tr>\n",
              "      <th>2020-05-16 02:06:01</th>\n",
              "      <td>23</td>\n",
              "      <td>67</td>\n",
              "      <td>44</td>\n",
              "      <td>1.43</td>\n",
              "      <td>23</td>\n",
              "      <td>32</td>\n",
              "    </tr>\n",
              "    <tr>\n",
              "      <th>2020-05-16 02:05:26</th>\n",
              "      <td>23</td>\n",
              "      <td>67</td>\n",
              "      <td>44</td>\n",
              "      <td>1.43</td>\n",
              "      <td>23</td>\n",
              "      <td>32</td>\n",
              "    </tr>\n",
              "    <tr>\n",
              "      <th>2020-05-16 02:05:21</th>\n",
              "      <td>23</td>\n",
              "      <td>67</td>\n",
              "      <td>43</td>\n",
              "      <td>1.43</td>\n",
              "      <td>23</td>\n",
              "      <td>32</td>\n",
              "    </tr>\n",
              "  </tbody>\n",
              "</table>\n",
              "<p>80000 rows × 6 columns</p>\n",
              "</div>"
            ],
            "text/plain": [
              "                     Temperature  Humidity  ...  Dust (PM2.5)  Dust (PM10)\n",
              "Date                                        ...                           \n",
              "2020-05-22 18:55:07           27        66  ...            44           61\n",
              "2020-05-22 18:55:01           27        66  ...            43           60\n",
              "2020-05-22 18:54:57           27        66  ...            43           60\n",
              "2020-05-22 18:54:51           27        66  ...            43           60\n",
              "2020-05-22 18:54:47           27        66  ...            43           60\n",
              "...                          ...       ...  ...           ...          ...\n",
              "2020-05-16 02:06:36           23        67  ...            24           34\n",
              "2020-05-16 02:06:18           23        67  ...            24           34\n",
              "2020-05-16 02:06:01           23        67  ...            23           32\n",
              "2020-05-16 02:05:26           23        67  ...            23           32\n",
              "2020-05-16 02:05:21           23        67  ...            23           32\n",
              "\n",
              "[80000 rows x 6 columns]"
            ]
          },
          "metadata": {
            "tags": []
          },
          "execution_count": 10
        }
      ]
    },
    {
      "cell_type": "markdown",
      "metadata": {
        "id": "gVNequJQ8bKR",
        "colab_type": "text"
      },
      "source": [
        "# **Handling missing data**"
      ]
    },
    {
      "cell_type": "code",
      "metadata": {
        "id": "0EMP5OEhwtIJ",
        "colab_type": "code",
        "colab": {}
      },
      "source": [
        "# converting all 0 in df to NaN\n",
        "df.replace(to_replace=0, value=np.nan, inplace=True)"
      ],
      "execution_count": 0,
      "outputs": []
    },
    {
      "cell_type": "markdown",
      "metadata": {
        "id": "IsDGZb5nafQF",
        "colab_type": "text"
      },
      "source": [
        "**Method 1: Removing the missing value rows**"
      ]
    },
    {
      "cell_type": "code",
      "metadata": {
        "id": "txlxcZnVcK7R",
        "colab_type": "code",
        "colab": {}
      },
      "source": [
        "df1 = df.dropna()"
      ],
      "execution_count": 0,
      "outputs": []
    },
    {
      "cell_type": "markdown",
      "metadata": {
        "id": "6l0z_-wWavP5",
        "colab_type": "text"
      },
      "source": [
        "**Method 2: Filling the missing values with mean**"
      ]
    },
    {
      "cell_type": "code",
      "metadata": {
        "id": "jWADxa403arH",
        "colab_type": "code",
        "colab": {}
      },
      "source": [
        "df = df.fillna(df.mean())"
      ],
      "execution_count": 0,
      "outputs": []
    },
    {
      "cell_type": "markdown",
      "metadata": {
        "id": "dhJKJqch8m-v",
        "colab_type": "text"
      },
      "source": [
        "# **Resampling of data**"
      ]
    },
    {
      "cell_type": "code",
      "metadata": {
        "id": "WFjvp3ER4pzE",
        "colab_type": "code",
        "colab": {}
      },
      "source": [
        "# keeping only one occurence of date time and merging duplicates by doing mean of them\n",
        "df = df.groupby('Date').mean()\n",
        "df1 = df1.groupby('Date').mean()"
      ],
      "execution_count": 0,
      "outputs": []
    },
    {
      "cell_type": "code",
      "metadata": {
        "id": "ES7WHnYA4qp9",
        "colab_type": "code",
        "outputId": "ad501087-1500-4768-a758-9944ef0d66ff",
        "colab": {
          "base_uri": "https://localhost:8080/",
          "height": 235
        }
      },
      "source": [
        "df.head()"
      ],
      "execution_count": 15,
      "outputs": [
        {
          "output_type": "execute_result",
          "data": {
            "text/html": [
              "<div>\n",
              "<style scoped>\n",
              "    .dataframe tbody tr th:only-of-type {\n",
              "        vertical-align: middle;\n",
              "    }\n",
              "\n",
              "    .dataframe tbody tr th {\n",
              "        vertical-align: top;\n",
              "    }\n",
              "\n",
              "    .dataframe thead th {\n",
              "        text-align: right;\n",
              "    }\n",
              "</style>\n",
              "<table border=\"1\" class=\"dataframe\">\n",
              "  <thead>\n",
              "    <tr style=\"text-align: right;\">\n",
              "      <th></th>\n",
              "      <th>Temperature</th>\n",
              "      <th>Humidity</th>\n",
              "      <th>Carbon Monoxide</th>\n",
              "      <th>Nitrogen Dioxide</th>\n",
              "      <th>Dust (PM2.5)</th>\n",
              "      <th>Dust (PM10)</th>\n",
              "    </tr>\n",
              "    <tr>\n",
              "      <th>Date</th>\n",
              "      <th></th>\n",
              "      <th></th>\n",
              "      <th></th>\n",
              "      <th></th>\n",
              "      <th></th>\n",
              "      <th></th>\n",
              "    </tr>\n",
              "  </thead>\n",
              "  <tbody>\n",
              "    <tr>\n",
              "      <th>2020-05-16 02:05:21</th>\n",
              "      <td>23</td>\n",
              "      <td>67</td>\n",
              "      <td>43</td>\n",
              "      <td>1.43</td>\n",
              "      <td>23.0</td>\n",
              "      <td>32.0</td>\n",
              "    </tr>\n",
              "    <tr>\n",
              "      <th>2020-05-16 02:05:26</th>\n",
              "      <td>23</td>\n",
              "      <td>67</td>\n",
              "      <td>44</td>\n",
              "      <td>1.43</td>\n",
              "      <td>23.0</td>\n",
              "      <td>32.0</td>\n",
              "    </tr>\n",
              "    <tr>\n",
              "      <th>2020-05-16 02:06:01</th>\n",
              "      <td>23</td>\n",
              "      <td>67</td>\n",
              "      <td>44</td>\n",
              "      <td>1.43</td>\n",
              "      <td>23.0</td>\n",
              "      <td>32.0</td>\n",
              "    </tr>\n",
              "    <tr>\n",
              "      <th>2020-05-16 02:06:18</th>\n",
              "      <td>23</td>\n",
              "      <td>67</td>\n",
              "      <td>44</td>\n",
              "      <td>1.43</td>\n",
              "      <td>24.0</td>\n",
              "      <td>34.0</td>\n",
              "    </tr>\n",
              "    <tr>\n",
              "      <th>2020-05-16 02:06:36</th>\n",
              "      <td>23</td>\n",
              "      <td>67</td>\n",
              "      <td>44</td>\n",
              "      <td>1.43</td>\n",
              "      <td>24.0</td>\n",
              "      <td>34.0</td>\n",
              "    </tr>\n",
              "  </tbody>\n",
              "</table>\n",
              "</div>"
            ],
            "text/plain": [
              "                     Temperature  Humidity  ...  Dust (PM2.5)  Dust (PM10)\n",
              "Date                                        ...                           \n",
              "2020-05-16 02:05:21           23        67  ...          23.0         32.0\n",
              "2020-05-16 02:05:26           23        67  ...          23.0         32.0\n",
              "2020-05-16 02:06:01           23        67  ...          23.0         32.0\n",
              "2020-05-16 02:06:18           23        67  ...          24.0         34.0\n",
              "2020-05-16 02:06:36           23        67  ...          24.0         34.0\n",
              "\n",
              "[5 rows x 6 columns]"
            ]
          },
          "metadata": {
            "tags": []
          },
          "execution_count": 15
        }
      ]
    },
    {
      "cell_type": "code",
      "metadata": {
        "id": "untLjhhYxpsM",
        "colab_type": "code",
        "colab": {
          "base_uri": "https://localhost:8080/",
          "height": 235
        },
        "outputId": "c3a864db-84ac-440a-da12-f97c830abc71"
      },
      "source": [
        "df1.head()"
      ],
      "execution_count": 16,
      "outputs": [
        {
          "output_type": "execute_result",
          "data": {
            "text/html": [
              "<div>\n",
              "<style scoped>\n",
              "    .dataframe tbody tr th:only-of-type {\n",
              "        vertical-align: middle;\n",
              "    }\n",
              "\n",
              "    .dataframe tbody tr th {\n",
              "        vertical-align: top;\n",
              "    }\n",
              "\n",
              "    .dataframe thead th {\n",
              "        text-align: right;\n",
              "    }\n",
              "</style>\n",
              "<table border=\"1\" class=\"dataframe\">\n",
              "  <thead>\n",
              "    <tr style=\"text-align: right;\">\n",
              "      <th></th>\n",
              "      <th>Temperature</th>\n",
              "      <th>Humidity</th>\n",
              "      <th>Carbon Monoxide</th>\n",
              "      <th>Nitrogen Dioxide</th>\n",
              "      <th>Dust (PM2.5)</th>\n",
              "      <th>Dust (PM10)</th>\n",
              "    </tr>\n",
              "    <tr>\n",
              "      <th>Date</th>\n",
              "      <th></th>\n",
              "      <th></th>\n",
              "      <th></th>\n",
              "      <th></th>\n",
              "      <th></th>\n",
              "      <th></th>\n",
              "    </tr>\n",
              "  </thead>\n",
              "  <tbody>\n",
              "    <tr>\n",
              "      <th>2020-05-16 02:05:21</th>\n",
              "      <td>23</td>\n",
              "      <td>67</td>\n",
              "      <td>43</td>\n",
              "      <td>1.43</td>\n",
              "      <td>23.0</td>\n",
              "      <td>32.0</td>\n",
              "    </tr>\n",
              "    <tr>\n",
              "      <th>2020-05-16 02:05:26</th>\n",
              "      <td>23</td>\n",
              "      <td>67</td>\n",
              "      <td>44</td>\n",
              "      <td>1.43</td>\n",
              "      <td>23.0</td>\n",
              "      <td>32.0</td>\n",
              "    </tr>\n",
              "    <tr>\n",
              "      <th>2020-05-16 02:06:01</th>\n",
              "      <td>23</td>\n",
              "      <td>67</td>\n",
              "      <td>44</td>\n",
              "      <td>1.43</td>\n",
              "      <td>23.0</td>\n",
              "      <td>32.0</td>\n",
              "    </tr>\n",
              "    <tr>\n",
              "      <th>2020-05-16 02:06:18</th>\n",
              "      <td>23</td>\n",
              "      <td>67</td>\n",
              "      <td>44</td>\n",
              "      <td>1.43</td>\n",
              "      <td>24.0</td>\n",
              "      <td>34.0</td>\n",
              "    </tr>\n",
              "    <tr>\n",
              "      <th>2020-05-16 02:06:36</th>\n",
              "      <td>23</td>\n",
              "      <td>67</td>\n",
              "      <td>44</td>\n",
              "      <td>1.43</td>\n",
              "      <td>24.0</td>\n",
              "      <td>34.0</td>\n",
              "    </tr>\n",
              "  </tbody>\n",
              "</table>\n",
              "</div>"
            ],
            "text/plain": [
              "                     Temperature  Humidity  ...  Dust (PM2.5)  Dust (PM10)\n",
              "Date                                        ...                           \n",
              "2020-05-16 02:05:21           23        67  ...          23.0         32.0\n",
              "2020-05-16 02:05:26           23        67  ...          23.0         32.0\n",
              "2020-05-16 02:06:01           23        67  ...          23.0         32.0\n",
              "2020-05-16 02:06:18           23        67  ...          24.0         34.0\n",
              "2020-05-16 02:06:36           23        67  ...          24.0         34.0\n",
              "\n",
              "[5 rows x 6 columns]"
            ]
          },
          "metadata": {
            "tags": []
          },
          "execution_count": 16
        }
      ]
    },
    {
      "cell_type": "markdown",
      "metadata": {
        "id": "9ktzwqgo8ryI",
        "colab_type": "text"
      },
      "source": [
        "# **Data Visualization & comparing**"
      ]
    },
    {
      "cell_type": "markdown",
      "metadata": {
        "id": "DonIxk95bWIz",
        "colab_type": "text"
      },
      "source": [
        "**plot with Missing value rows removed**"
      ]
    },
    {
      "cell_type": "code",
      "metadata": {
        "id": "OJ4SabjEbm0K",
        "colab_type": "code",
        "outputId": "a8a10bba-7057-4c55-8f4a-a49972ee5182",
        "colab": {
          "base_uri": "https://localhost:8080/",
          "height": 429
        }
      },
      "source": [
        "graph = df1[['Temperature','Humidity','Carbon Monoxide','Nitrogen Dioxide']].resample(rule='D').mean().plot.bar(figsize=(12,5));"
      ],
      "execution_count": 17,
      "outputs": [
        {
          "output_type": "display_data",
          "data": {
            "image/png": "[encoded data removed]",
            "text/plain": [
              "<Figure size 864x360 with 1 Axes>"
            ]
          },
          "metadata": {
            "tags": [],
            "needs_background": "light"
          }
        }
      ]
    },
    {
      "cell_type": "code",
      "metadata": {
        "id": "E3laDB0sbnCC",
        "colab_type": "code",
        "outputId": "be271bcc-b5f6-4b90-e3dc-d1f60a961e18",
        "colab": {
          "base_uri": "https://localhost:8080/",
          "height": 429
        }
      },
      "source": [
        "graph = df1[['Dust (PM2.5)','Dust (PM10)']].resample(rule='D').mean().plot.bar(figsize=(12,5));\n",
        "graph.set(ylabel='Dust');"
      ],
      "execution_count": 18,
      "outputs": [
        {
          "output_type": "display_data",
          "data": {
            "image/png": "[encoded data removed]",
            "text/plain": [
              "<Figure size 864x360 with 1 Axes>"
            ]
          },
          "metadata": {
            "tags": [],
            "needs_background": "light"
          }
        }
      ]
    },
    {
      "cell_type": "markdown",
      "metadata": {
        "id": "R_ZvK7ulbcxL",
        "colab_type": "text"
      },
      "source": [
        "**plot with Missing values replaced with mean (can be same as above incase of no missing values)**"
      ]
    },
    {
      "cell_type": "code",
      "metadata": {
        "id": "lj4SnauQ4rcm",
        "colab_type": "code",
        "outputId": "96f50f99-debf-4f76-fe9c-294842257bde",
        "colab": {
          "base_uri": "https://localhost:8080/",
          "height": 429
        }
      },
      "source": [
        "graph = df[['Temperature','Humidity','Carbon Monoxide','Nitrogen Dioxide']].resample(rule='D').mean().plot.bar(figsize=(12,5));"
      ],
      "execution_count": 19,
      "outputs": [
        {
          "output_type": "display_data",
          "data": {
            "image/png": "[encoded data removed]",
            "text/plain": [
              "<Figure size 864x360 with 1 Axes>"
            ]
          },
          "metadata": {
            "tags": [],
            "needs_background": "light"
          }
        }
      ]
    },
    {
      "cell_type": "code",
      "metadata": {
        "id": "ss0WzN2t5BVU",
        "colab_type": "code",
        "outputId": "849510f6-6629-497f-f5af-c046eecc4cf5",
        "colab": {
          "base_uri": "https://localhost:8080/",
          "height": 429
        }
      },
      "source": [
        "graph = df[['Dust (PM2.5)','Dust (PM10)']].resample(rule='D').mean().plot.bar(figsize=(12,5));\n",
        "graph.set(ylabel='Dust');"
      ],
      "execution_count": 20,
      "outputs": [
        {
          "output_type": "display_data",
          "data": {
            "image/png": "[encoded data removed]",
            "text/plain": [
              "<Figure size 864x360 with 1 Axes>"
            ]
          },
          "metadata": {
            "tags": [],
            "needs_background": "light"
          }
        }
      ]
    }
  ]
}