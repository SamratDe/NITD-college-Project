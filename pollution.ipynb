{
  "nbformat": 4,
  "nbformat_minor": 0,
  "metadata": {
    "colab": {
      "name": "pollution.ipynb",
      "provenance": [],
      "collapsed_sections": [
        "NIFIjXff8J9F",
        "chpNsr1n8SgK",
        "dhJKJqch8m-v"
      ],
      "toc_visible": true,
      "mount_file_id": "1f5Dv-ewXm2bbm-kLfkW1x1qCAG6K1Qgr",
      "authorship_tag": "ABX9TyP73doLtVeQXAw8yrqK0Khr"
    },
    "kernelspec": {
      "name": "python3",
      "display_name": "Python 3"
    }
  },
  "cells": [
    {
      "cell_type": "markdown",
      "metadata": {
        "id": "NIFIjXff8J9F",
        "colab_type": "text"
      },
      "source": [
        "# **Importing libraries and dataset**"
      ]
    },
    {
      "cell_type": "code",
      "metadata": {
        "id": "Q5SLX17v5z3H",
        "colab_type": "code",
        "colab": {}
      },
      "source": [
        "import numpy as np\n",
        "import matplotlib.pyplot as plt\n",
        "import pandas as pd"
      ],
      "execution_count": 0,
      "outputs": []
    },
    {
      "cell_type": "markdown",
      "metadata": {
        "id": "chpNsr1n8SgK",
        "colab_type": "text"
      },
      "source": [
        "# **DataFrame & arranging data**"
      ]
    },
    {
      "cell_type": "code",
      "metadata": {
        "id": "PFtWaCTeF-GE",
        "colab_type": "code",
        "colab": {}
      },
      "source": [
        "df = pd.read_csv('/content/drive/My Drive/NITD Internship/Data.csv', index_col='Date', parse_dates=True)"
      ],
      "execution_count": 0,
      "outputs": []
    },
    {
      "cell_type": "code",
      "metadata": {
        "id": "DzM5ldEg1EBB",
        "colab_type": "code",
        "colab": {}
      },
      "source": [
        "df.drop('Unnamed: 0', axis=1, inplace=True)"
      ],
      "execution_count": 0,
      "outputs": []
    },
    {
      "cell_type": "code",
      "metadata": {
        "id": "ylK64SEO3Dqo",
        "colab_type": "code",
        "outputId": "3e695ba4-fb48-4e7e-d8c4-29c0268ee14a",
        "colab": {
          "base_uri": "https://localhost:8080/",
          "height": 235
        }
      },
      "source": [
        "df.head()"
      ],
      "execution_count": 4,
      "outputs": [
        {
          "output_type": "execute_result",
          "data": {
            "text/html": [
              "<div>\n",
              "<style scoped>\n",
              "    .dataframe tbody tr th:only-of-type {\n",
              "        vertical-align: middle;\n",
              "    }\n",
              "\n",
              "    .dataframe tbody tr th {\n",
              "        vertical-align: top;\n",
              "    }\n",
              "\n",
              "    .dataframe thead th {\n",
              "        text-align: right;\n",
              "    }\n",
              "</style>\n",
              "<table border=\"1\" class=\"dataframe\">\n",
              "  <thead>\n",
              "    <tr style=\"text-align: right;\">\n",
              "      <th></th>\n",
              "      <th>Temperature</th>\n",
              "      <th>Humidity</th>\n",
              "      <th>Carbon Monoxide</th>\n",
              "      <th>Nitrogen Dioxide</th>\n",
              "      <th>Dust (PM2.5)</th>\n",
              "      <th>Dust (PM10)</th>\n",
              "    </tr>\n",
              "    <tr>\n",
              "      <th>Date</th>\n",
              "      <th></th>\n",
              "      <th></th>\n",
              "      <th></th>\n",
              "      <th></th>\n",
              "      <th></th>\n",
              "      <th></th>\n",
              "    </tr>\n",
              "  </thead>\n",
              "  <tbody>\n",
              "    <tr>\n",
              "      <th>2020-04-16 11:08:00</th>\n",
              "      <td>30</td>\n",
              "      <td>36</td>\n",
              "      <td>44</td>\n",
              "      <td>1.42</td>\n",
              "      <td>37</td>\n",
              "      <td>52</td>\n",
              "    </tr>\n",
              "    <tr>\n",
              "      <th>2020-04-16 11:08:00</th>\n",
              "      <td>30</td>\n",
              "      <td>36</td>\n",
              "      <td>44</td>\n",
              "      <td>1.42</td>\n",
              "      <td>37</td>\n",
              "      <td>52</td>\n",
              "    </tr>\n",
              "    <tr>\n",
              "      <th>2020-04-16 11:07:00</th>\n",
              "      <td>30</td>\n",
              "      <td>36</td>\n",
              "      <td>44</td>\n",
              "      <td>1.41</td>\n",
              "      <td>37</td>\n",
              "      <td>52</td>\n",
              "    </tr>\n",
              "    <tr>\n",
              "      <th>2020-04-16 11:07:00</th>\n",
              "      <td>30</td>\n",
              "      <td>36</td>\n",
              "      <td>44</td>\n",
              "      <td>1.41</td>\n",
              "      <td>37</td>\n",
              "      <td>52</td>\n",
              "    </tr>\n",
              "    <tr>\n",
              "      <th>2020-04-16 11:07:00</th>\n",
              "      <td>30</td>\n",
              "      <td>36</td>\n",
              "      <td>44</td>\n",
              "      <td>1.42</td>\n",
              "      <td>37</td>\n",
              "      <td>52</td>\n",
              "    </tr>\n",
              "  </tbody>\n",
              "</table>\n",
              "</div>"
            ],
            "text/plain": [
              "                     Temperature  Humidity  ...  Dust (PM2.5)  Dust (PM10)\n",
              "Date                                        ...                           \n",
              "2020-04-16 11:08:00           30        36  ...            37           52\n",
              "2020-04-16 11:08:00           30        36  ...            37           52\n",
              "2020-04-16 11:07:00           30        36  ...            37           52\n",
              "2020-04-16 11:07:00           30        36  ...            37           52\n",
              "2020-04-16 11:07:00           30        36  ...            37           52\n",
              "\n",
              "[5 rows x 6 columns]"
            ]
          },
          "metadata": {
            "tags": []
          },
          "execution_count": 4
        }
      ]
    },
    {
      "cell_type": "markdown",
      "metadata": {
        "id": "gVNequJQ8bKR",
        "colab_type": "text"
      },
      "source": [
        "# **Handling missing data**"
      ]
    },
    {
      "cell_type": "markdown",
      "metadata": {
        "id": "IsDGZb5nafQF",
        "colab_type": "text"
      },
      "source": [
        "**Method 1: Removing the missing value rows**"
      ]
    },
    {
      "cell_type": "code",
      "metadata": {
        "id": "txlxcZnVcK7R",
        "colab_type": "code",
        "colab": {}
      },
      "source": [
        "df1 = df.replace(to_replace=0, value=np.nan)\n",
        "df1.dropna(inplace=True)"
      ],
      "execution_count": 0,
      "outputs": []
    },
    {
      "cell_type": "markdown",
      "metadata": {
        "id": "6l0z_-wWavP5",
        "colab_type": "text"
      },
      "source": [
        "**Method 2: Filling the missing values with mean**"
      ]
    },
    {
      "cell_type": "code",
      "metadata": {
        "id": "jWADxa403arH",
        "colab_type": "code",
        "colab": {}
      },
      "source": [
        "df = df.fillna(df.mean())"
      ],
      "execution_count": 0,
      "outputs": []
    },
    {
      "cell_type": "markdown",
      "metadata": {
        "id": "dhJKJqch8m-v",
        "colab_type": "text"
      },
      "source": [
        "# **Resampling of data**"
      ]
    },
    {
      "cell_type": "code",
      "metadata": {
        "id": "WFjvp3ER4pzE",
        "colab_type": "code",
        "colab": {}
      },
      "source": [
        "# keeping only one occurence of date time and merging duplicates by doing mean of them\n",
        "df = df.groupby('Date').mean()\n",
        "df1 = df1.groupby('Date').mean()"
      ],
      "execution_count": 0,
      "outputs": []
    },
    {
      "cell_type": "code",
      "metadata": {
        "id": "ES7WHnYA4qp9",
        "colab_type": "code",
        "outputId": "481d1435-1d8c-4950-bfb5-c1d99fcfc582",
        "colab": {
          "base_uri": "https://localhost:8080/",
          "height": 235
        }
      },
      "source": [
        "df.head()"
      ],
      "execution_count": 8,
      "outputs": [
        {
          "output_type": "execute_result",
          "data": {
            "text/html": [
              "<div>\n",
              "<style scoped>\n",
              "    .dataframe tbody tr th:only-of-type {\n",
              "        vertical-align: middle;\n",
              "    }\n",
              "\n",
              "    .dataframe tbody tr th {\n",
              "        vertical-align: top;\n",
              "    }\n",
              "\n",
              "    .dataframe thead th {\n",
              "        text-align: right;\n",
              "    }\n",
              "</style>\n",
              "<table border=\"1\" class=\"dataframe\">\n",
              "  <thead>\n",
              "    <tr style=\"text-align: right;\">\n",
              "      <th></th>\n",
              "      <th>Temperature</th>\n",
              "      <th>Humidity</th>\n",
              "      <th>Carbon Monoxide</th>\n",
              "      <th>Nitrogen Dioxide</th>\n",
              "      <th>Dust (PM2.5)</th>\n",
              "      <th>Dust (PM10)</th>\n",
              "    </tr>\n",
              "    <tr>\n",
              "      <th>Date</th>\n",
              "      <th></th>\n",
              "      <th></th>\n",
              "      <th></th>\n",
              "      <th></th>\n",
              "      <th></th>\n",
              "      <th></th>\n",
              "    </tr>\n",
              "  </thead>\n",
              "  <tbody>\n",
              "    <tr>\n",
              "      <th>2020-03-29 13:48:00</th>\n",
              "      <td>31.0</td>\n",
              "      <td>18.0</td>\n",
              "      <td>44.0</td>\n",
              "      <td>1.460000</td>\n",
              "      <td>12.000000</td>\n",
              "      <td>17.000000</td>\n",
              "    </tr>\n",
              "    <tr>\n",
              "      <th>2020-03-29 13:49:00</th>\n",
              "      <td>31.0</td>\n",
              "      <td>18.0</td>\n",
              "      <td>43.5</td>\n",
              "      <td>1.475000</td>\n",
              "      <td>12.166667</td>\n",
              "      <td>17.166667</td>\n",
              "    </tr>\n",
              "    <tr>\n",
              "      <th>2020-03-29 13:50:00</th>\n",
              "      <td>31.0</td>\n",
              "      <td>18.0</td>\n",
              "      <td>43.5</td>\n",
              "      <td>1.471667</td>\n",
              "      <td>13.000000</td>\n",
              "      <td>18.000000</td>\n",
              "    </tr>\n",
              "    <tr>\n",
              "      <th>2020-03-29 13:51:00</th>\n",
              "      <td>31.0</td>\n",
              "      <td>18.0</td>\n",
              "      <td>43.5</td>\n",
              "      <td>1.456667</td>\n",
              "      <td>13.000000</td>\n",
              "      <td>18.000000</td>\n",
              "    </tr>\n",
              "    <tr>\n",
              "      <th>2020-03-29 13:52:00</th>\n",
              "      <td>31.2</td>\n",
              "      <td>18.0</td>\n",
              "      <td>43.6</td>\n",
              "      <td>1.450000</td>\n",
              "      <td>13.000000</td>\n",
              "      <td>18.000000</td>\n",
              "    </tr>\n",
              "  </tbody>\n",
              "</table>\n",
              "</div>"
            ],
            "text/plain": [
              "                     Temperature  Humidity  ...  Dust (PM2.5)  Dust (PM10)\n",
              "Date                                        ...                           \n",
              "2020-03-29 13:48:00         31.0      18.0  ...     12.000000    17.000000\n",
              "2020-03-29 13:49:00         31.0      18.0  ...     12.166667    17.166667\n",
              "2020-03-29 13:50:00         31.0      18.0  ...     13.000000    18.000000\n",
              "2020-03-29 13:51:00         31.0      18.0  ...     13.000000    18.000000\n",
              "2020-03-29 13:52:00         31.2      18.0  ...     13.000000    18.000000\n",
              "\n",
              "[5 rows x 6 columns]"
            ]
          },
          "metadata": {
            "tags": []
          },
          "execution_count": 8
        }
      ]
    },
    {
      "cell_type": "markdown",
      "metadata": {
        "id": "9ktzwqgo8ryI",
        "colab_type": "text"
      },
      "source": [
        "# **Data Visualization & comparing**"
      ]
    },
    {
      "cell_type": "markdown",
      "metadata": {
        "id": "DonIxk95bWIz",
        "colab_type": "text"
      },
      "source": [
        "**plot with Missing value rows removed**"
      ]
    },
    {
      "cell_type": "code",
      "metadata": {
        "id": "OJ4SabjEbm0K",
        "colab_type": "code",
        "colab": {
          "base_uri": "https://localhost:8080/",
          "height": 429
        },
        "outputId": "5586eb49-dc45-4890-b099-f7c853ff717d"
      },
      "source": [
        "graph = df1[['Temperature','Humidity','Carbon Monoxide','Nitrogen Dioxide']].resample(rule='D').mean().plot.bar(figsize=(12,5));"
      ],
      "execution_count": 11,
      "outputs": [
        {
          "output_type": "display_data",
          "data": {
            "image/png": "[encoded data removed]",
            "text/plain": [
              "<Figure size 864x360 with 1 Axes>"
            ]
          },
          "metadata": {
            "tags": [],
            "needs_background": "light"
          }
        }
      ]
    },
    {
      "cell_type": "code",
      "metadata": {
        "id": "E3laDB0sbnCC",
        "colab_type": "code",
        "colab": {
          "base_uri": "https://localhost:8080/",
          "height": 429
        },
        "outputId": "b09c1b7b-7f3a-4f97-d5ec-71a07e3b302b"
      },
      "source": [
        "graph = df1[['Dust (PM2.5)','Dust (PM10)']].resample(rule='D').mean().plot.bar(figsize=(12,5));\n",
        "graph.set(ylabel='Dust');"
      ],
      "execution_count": 12,
      "outputs": [
        {
          "output_type": "display_data",
          "data": {
            "image/png": "[encoded data removed]",
            "text/plain": [
              "<Figure size 864x360 with 1 Axes>"
            ]
          },
          "metadata": {
            "tags": [],
            "needs_background": "light"
          }
        }
      ]
    },
    {
      "cell_type": "markdown",
      "metadata": {
        "id": "R_ZvK7ulbcxL",
        "colab_type": "text"
      },
      "source": [
        "**plot with Missing values replaced with mean (can be same as above incase of no missing values)**"
      ]
    },
    {
      "cell_type": "code",
      "metadata": {
        "id": "lj4SnauQ4rcm",
        "colab_type": "code",
        "outputId": "3f7b1799-d5e8-49f9-bd3e-55f94ea0232a",
        "colab": {
          "base_uri": "https://localhost:8080/",
          "height": 429
        }
      },
      "source": [
        "graph = df[['Temperature','Humidity','Carbon Monoxide','Nitrogen Dioxide']].resample(rule='D').mean().plot.bar(figsize=(12,5));"
      ],
      "execution_count": 13,
      "outputs": [
        {
          "output_type": "display_data",
          "data": {
            "image/png": "[encoded data removed]",
            "text/plain": [
              "<Figure size 864x360 with 1 Axes>"
            ]
          },
          "metadata": {
            "tags": [],
            "needs_background": "light"
          }
        }
      ]
    },
    {
      "cell_type": "code",
      "metadata": {
        "id": "ss0WzN2t5BVU",
        "colab_type": "code",
        "outputId": "a71ec247-32f8-4deb-f2c8-b7b6028a11a9",
        "colab": {
          "base_uri": "https://localhost:8080/",
          "height": 429
        }
      },
      "source": [
        "graph = df[['Dust (PM2.5)','Dust (PM10)']].resample(rule='D').mean().plot.bar(figsize=(12,5));\n",
        "graph.set(ylabel='Dust');"
      ],
      "execution_count": 14,
      "outputs": [
        {
          "output_type": "display_data",
          "data": {
            "image/png": "[encoded data removed]",
            "text/plain": [
              "<Figure size 864x360 with 1 Axes>"
            ]
          },
          "metadata": {
            "tags": [],
            "needs_background": "light"
          }
        }
      ]
    }
  ]
}