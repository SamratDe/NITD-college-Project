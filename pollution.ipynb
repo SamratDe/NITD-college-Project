{
  "nbformat": 4,
  "nbformat_minor": 0,
  "metadata": {
    "colab": {
      "name": "pollution.ipynb",
      "provenance": [],
      "collapsed_sections": [],
      "toc_visible": true,
      "mount_file_id": "1f5Dv-ewXm2bbm-kLfkW1x1qCAG6K1Qgr",
      "authorship_tag": "ABX9TyMt/KQ1ZluN8sCrErxj79Xd"
    },
    "kernelspec": {
      "name": "python3",
      "display_name": "Python 3"
    }
  },
  "cells": [
    {
      "cell_type": "code",
      "metadata": {
        "id": "Q5SLX17v5z3H",
        "colab_type": "code",
        "colab": {}
      },
      "source": [
        "import numpy as np\n",
        "import matplotlib.pyplot as plt\n",
        "import pandas as pd"
      ],
      "execution_count": 0,
      "outputs": []
    },
    {
      "cell_type": "code",
      "metadata": {
        "id": "PFtWaCTeF-GE",
        "colab_type": "code",
        "colab": {}
      },
      "source": [
        "df = pd.read_csv('/content/drive/My Drive/NITD Internship/nitdata.csv', index_col='Date', parse_dates=True)"
      ],
      "execution_count": 0,
      "outputs": []
    },
    {
      "cell_type": "code",
      "metadata": {
        "id": "Jd45Nx-r7l4J",
        "colab_type": "code",
        "outputId": "ffab43fa-f026-4888-f05e-81256dc3e8cd",
        "colab": {
          "base_uri": "https://localhost:8080/",
          "height": 235
        }
      },
      "source": [
        "df.head()"
      ],
      "execution_count": 3,
      "outputs": [
        {
          "output_type": "execute_result",
          "data": {
            "text/html": [
              "<div>\n",
              "<style scoped>\n",
              "    .dataframe tbody tr th:only-of-type {\n",
              "        vertical-align: middle;\n",
              "    }\n",
              "\n",
              "    .dataframe tbody tr th {\n",
              "        vertical-align: top;\n",
              "    }\n",
              "\n",
              "    .dataframe thead th {\n",
              "        text-align: right;\n",
              "    }\n",
              "</style>\n",
              "<table border=\"1\" class=\"dataframe\">\n",
              "  <thead>\n",
              "    <tr style=\"text-align: right;\">\n",
              "      <th></th>\n",
              "      <th>Temperature</th>\n",
              "      <th>Humidity</th>\n",
              "      <th>Carbon Monoxide</th>\n",
              "      <th>Nitrogen Dioxide</th>\n",
              "      <th>Dust (PM2.5)</th>\n",
              "      <th>Dust (PM10)</th>\n",
              "    </tr>\n",
              "    <tr>\n",
              "      <th>Date</th>\n",
              "      <th></th>\n",
              "      <th></th>\n",
              "      <th></th>\n",
              "      <th></th>\n",
              "      <th></th>\n",
              "      <th></th>\n",
              "    </tr>\n",
              "  </thead>\n",
              "  <tbody>\n",
              "    <tr>\n",
              "      <th>2020-05-22 18:55:07</th>\n",
              "      <td>27</td>\n",
              "      <td>66</td>\n",
              "      <td>46</td>\n",
              "      <td>0.27</td>\n",
              "      <td>44</td>\n",
              "      <td>61</td>\n",
              "    </tr>\n",
              "    <tr>\n",
              "      <th>2020-05-22 18:55:01</th>\n",
              "      <td>27</td>\n",
              "      <td>66</td>\n",
              "      <td>46</td>\n",
              "      <td>0.27</td>\n",
              "      <td>43</td>\n",
              "      <td>60</td>\n",
              "    </tr>\n",
              "    <tr>\n",
              "      <th>2020-05-22 18:54:57</th>\n",
              "      <td>27</td>\n",
              "      <td>66</td>\n",
              "      <td>46</td>\n",
              "      <td>0.27</td>\n",
              "      <td>43</td>\n",
              "      <td>60</td>\n",
              "    </tr>\n",
              "    <tr>\n",
              "      <th>2020-05-22 18:54:51</th>\n",
              "      <td>27</td>\n",
              "      <td>66</td>\n",
              "      <td>46</td>\n",
              "      <td>0.27</td>\n",
              "      <td>43</td>\n",
              "      <td>60</td>\n",
              "    </tr>\n",
              "    <tr>\n",
              "      <th>2020-05-22 18:54:47</th>\n",
              "      <td>27</td>\n",
              "      <td>66</td>\n",
              "      <td>46</td>\n",
              "      <td>0.27</td>\n",
              "      <td>43</td>\n",
              "      <td>60</td>\n",
              "    </tr>\n",
              "  </tbody>\n",
              "</table>\n",
              "</div>"
            ],
            "text/plain": [
              "                     Temperature  Humidity  ...  Dust (PM2.5)  Dust (PM10)\n",
              "Date                                        ...                           \n",
              "2020-05-22 18:55:07           27        66  ...            44           61\n",
              "2020-05-22 18:55:01           27        66  ...            43           60\n",
              "2020-05-22 18:54:57           27        66  ...            43           60\n",
              "2020-05-22 18:54:51           27        66  ...            43           60\n",
              "2020-05-22 18:54:47           27        66  ...            43           60\n",
              "\n",
              "[5 rows x 6 columns]"
            ]
          },
          "metadata": {
            "tags": []
          },
          "execution_count": 3
        }
      ]
    },
    {
      "cell_type": "code",
      "metadata": {
        "id": "0EMP5OEhwtIJ",
        "colab_type": "code",
        "colab": {}
      },
      "source": [
        "# converting all 0 in df to NaN\n",
        "df.replace(to_replace=0, value=np.nan, inplace=True)\n",
        "# filling them with mean\n",
        "df.fillna(df.mean(), inplace=True)\n",
        "df.columns = ['temp', 'humidity', 'co', 'no2' , 'dust1', 'dust2']"
      ],
      "execution_count": 0,
      "outputs": []
    },
    {
      "cell_type": "code",
      "metadata": {
        "id": "WFjvp3ER4pzE",
        "colab_type": "code",
        "colab": {}
      },
      "source": [
        "# keeping only one occurence of date time and merging duplicates by doing mean of them\n",
        "# and also sorting the index in ascending order\n",
        "df = df.groupby('Date').mean()"
      ],
      "execution_count": 0,
      "outputs": []
    },
    {
      "cell_type": "code",
      "metadata": {
        "id": "4GaolIjb5JBi",
        "colab_type": "code",
        "outputId": "37677650-d100-4db7-8820-bbe0a57a9d9b",
        "colab": {
          "base_uri": "https://localhost:8080/",
          "height": 204
        }
      },
      "source": [
        "df.head(4)"
      ],
      "execution_count": 6,
      "outputs": [
        {
          "output_type": "execute_result",
          "data": {
            "text/html": [
              "<div>\n",
              "<style scoped>\n",
              "    .dataframe tbody tr th:only-of-type {\n",
              "        vertical-align: middle;\n",
              "    }\n",
              "\n",
              "    .dataframe tbody tr th {\n",
              "        vertical-align: top;\n",
              "    }\n",
              "\n",
              "    .dataframe thead th {\n",
              "        text-align: right;\n",
              "    }\n",
              "</style>\n",
              "<table border=\"1\" class=\"dataframe\">\n",
              "  <thead>\n",
              "    <tr style=\"text-align: right;\">\n",
              "      <th></th>\n",
              "      <th>temp</th>\n",
              "      <th>humidity</th>\n",
              "      <th>co</th>\n",
              "      <th>no2</th>\n",
              "      <th>dust1</th>\n",
              "      <th>dust2</th>\n",
              "    </tr>\n",
              "    <tr>\n",
              "      <th>Date</th>\n",
              "      <th></th>\n",
              "      <th></th>\n",
              "      <th></th>\n",
              "      <th></th>\n",
              "      <th></th>\n",
              "      <th></th>\n",
              "    </tr>\n",
              "  </thead>\n",
              "  <tbody>\n",
              "    <tr>\n",
              "      <th>2020-05-16 02:05:21</th>\n",
              "      <td>23</td>\n",
              "      <td>67</td>\n",
              "      <td>43</td>\n",
              "      <td>1.43</td>\n",
              "      <td>23.0</td>\n",
              "      <td>32.0</td>\n",
              "    </tr>\n",
              "    <tr>\n",
              "      <th>2020-05-16 02:05:26</th>\n",
              "      <td>23</td>\n",
              "      <td>67</td>\n",
              "      <td>44</td>\n",
              "      <td>1.43</td>\n",
              "      <td>23.0</td>\n",
              "      <td>32.0</td>\n",
              "    </tr>\n",
              "    <tr>\n",
              "      <th>2020-05-16 02:06:01</th>\n",
              "      <td>23</td>\n",
              "      <td>67</td>\n",
              "      <td>44</td>\n",
              "      <td>1.43</td>\n",
              "      <td>23.0</td>\n",
              "      <td>32.0</td>\n",
              "    </tr>\n",
              "    <tr>\n",
              "      <th>2020-05-16 02:06:18</th>\n",
              "      <td>23</td>\n",
              "      <td>67</td>\n",
              "      <td>44</td>\n",
              "      <td>1.43</td>\n",
              "      <td>24.0</td>\n",
              "      <td>34.0</td>\n",
              "    </tr>\n",
              "  </tbody>\n",
              "</table>\n",
              "</div>"
            ],
            "text/plain": [
              "                     temp  humidity  co   no2  dust1  dust2\n",
              "Date                                                       \n",
              "2020-05-16 02:05:21    23        67  43  1.43   23.0   32.0\n",
              "2020-05-16 02:05:26    23        67  44  1.43   23.0   32.0\n",
              "2020-05-16 02:06:01    23        67  44  1.43   23.0   32.0\n",
              "2020-05-16 02:06:18    23        67  44  1.43   24.0   34.0"
            ]
          },
          "metadata": {
            "tags": []
          },
          "execution_count": 6
        }
      ]
    },
    {
      "cell_type": "code",
      "metadata": {
        "id": "M9E8OGgz90ta",
        "colab_type": "code",
        "colab": {}
      },
      "source": [
        "dataset = pd.DataFrame()\n",
        "dataset['temp'] = df.temp.resample('H').mean()\n",
        "dataset['humidity'] = df.humidity.resample('H').mean()\n",
        "dataset['co'] = df.co.resample('H').mean()\n",
        "dataset['no2'] = df.no2.resample('H').mean()\n",
        "dataset['dust1'] = df.dust1.resample('H').mean()\n",
        "dataset['dust2'] = df.dust2.resample('H').mean()"
      ],
      "execution_count": 0,
      "outputs": []
    },
    {
      "cell_type": "code",
      "metadata": {
        "id": "_tIC_03jDoLj",
        "colab_type": "code",
        "outputId": "6c16867b-6a4a-453c-9146-89b6ef59c5c1",
        "colab": {
          "base_uri": "https://localhost:8080/",
          "height": 204
        }
      },
      "source": [
        "dataset.head(4)"
      ],
      "execution_count": 8,
      "outputs": [
        {
          "output_type": "execute_result",
          "data": {
            "text/html": [
              "<div>\n",
              "<style scoped>\n",
              "    .dataframe tbody tr th:only-of-type {\n",
              "        vertical-align: middle;\n",
              "    }\n",
              "\n",
              "    .dataframe tbody tr th {\n",
              "        vertical-align: top;\n",
              "    }\n",
              "\n",
              "    .dataframe thead th {\n",
              "        text-align: right;\n",
              "    }\n",
              "</style>\n",
              "<table border=\"1\" class=\"dataframe\">\n",
              "  <thead>\n",
              "    <tr style=\"text-align: right;\">\n",
              "      <th></th>\n",
              "      <th>temp</th>\n",
              "      <th>humidity</th>\n",
              "      <th>co</th>\n",
              "      <th>no2</th>\n",
              "      <th>dust1</th>\n",
              "      <th>dust2</th>\n",
              "    </tr>\n",
              "    <tr>\n",
              "      <th>Date</th>\n",
              "      <th></th>\n",
              "      <th></th>\n",
              "      <th></th>\n",
              "      <th></th>\n",
              "      <th></th>\n",
              "      <th></th>\n",
              "    </tr>\n",
              "  </thead>\n",
              "  <tbody>\n",
              "    <tr>\n",
              "      <th>2020-05-16 02:00:00</th>\n",
              "      <td>22.950959</td>\n",
              "      <td>67.974414</td>\n",
              "      <td>43.505330</td>\n",
              "      <td>1.456759</td>\n",
              "      <td>25.574704</td>\n",
              "      <td>35.978933</td>\n",
              "    </tr>\n",
              "    <tr>\n",
              "      <th>2020-05-16 03:00:00</th>\n",
              "      <td>22.202797</td>\n",
              "      <td>72.304196</td>\n",
              "      <td>43.569930</td>\n",
              "      <td>1.437290</td>\n",
              "      <td>25.710770</td>\n",
              "      <td>36.077272</td>\n",
              "    </tr>\n",
              "    <tr>\n",
              "      <th>2020-05-16 04:00:00</th>\n",
              "      <td>22.026984</td>\n",
              "      <td>74.628571</td>\n",
              "      <td>43.969841</td>\n",
              "      <td>1.325508</td>\n",
              "      <td>56.169221</td>\n",
              "      <td>78.278348</td>\n",
              "    </tr>\n",
              "    <tr>\n",
              "      <th>2020-05-16 05:00:00</th>\n",
              "      <td>22.000000</td>\n",
              "      <td>75.634615</td>\n",
              "      <td>44.000000</td>\n",
              "      <td>1.131521</td>\n",
              "      <td>89.782406</td>\n",
              "      <td>124.723986</td>\n",
              "    </tr>\n",
              "  </tbody>\n",
              "</table>\n",
              "</div>"
            ],
            "text/plain": [
              "                          temp   humidity  ...      dust1       dust2\n",
              "Date                                       ...                       \n",
              "2020-05-16 02:00:00  22.950959  67.974414  ...  25.574704   35.978933\n",
              "2020-05-16 03:00:00  22.202797  72.304196  ...  25.710770   36.077272\n",
              "2020-05-16 04:00:00  22.026984  74.628571  ...  56.169221   78.278348\n",
              "2020-05-16 05:00:00  22.000000  75.634615  ...  89.782406  124.723986\n",
              "\n",
              "[4 rows x 6 columns]"
            ]
          },
          "metadata": {
            "tags": []
          },
          "execution_count": 8
        }
      ]
    },
    {
      "cell_type": "code",
      "metadata": {
        "id": "c7p3Oa-TPR3Q",
        "colab_type": "code",
        "outputId": "24f743de-b441-4008-ae02-600ddcea2ef4",
        "colab": {
          "base_uri": "https://localhost:8080/",
          "height": 136
        }
      },
      "source": [
        "dataset.isnull().sum()"
      ],
      "execution_count": 9,
      "outputs": [
        {
          "output_type": "execute_result",
          "data": {
            "text/plain": [
              "temp        0\n",
              "humidity    0\n",
              "co          0\n",
              "no2         0\n",
              "dust1       0\n",
              "dust2       0\n",
              "dtype: int64"
            ]
          },
          "metadata": {
            "tags": []
          },
          "execution_count": 9
        }
      ]
    },
    {
      "cell_type": "code",
      "metadata": {
        "id": "PeEpkwZwGfFV",
        "colab_type": "code",
        "outputId": "eaba643a-1054-4b99-e895-d54d95453f26",
        "colab": {
          "base_uri": "https://localhost:8080/",
          "height": 266
        }
      },
      "source": [
        "values = dataset.values\n",
        "# specify columns to plot\n",
        "groups = [0, 1, 2, 3, 4, 5]\n",
        "i = 1\n",
        "# plot each column\n",
        "plt.figure()\n",
        "for group in groups:\n",
        "\tplt.subplot(len(groups), 1, i)\n",
        "\tplt.plot(values[:, group])\n",
        "\tplt.title(dataset.columns[group], y=0.5, loc='right')\n",
        "\ti += 1\n",
        "plt.show()"
      ],
      "execution_count": 10,
      "outputs": [
        {
          "output_type": "display_data",
          "data": {
            "image/png": "[encoded data removed]",
            "text/plain": [
              "<Figure size 432x288 with 6 Axes>"
            ]
          },
          "metadata": {
            "tags": [],
            "needs_background": "light"
          }
        }
      ]
    },
    {
      "cell_type": "code",
      "metadata": {
        "id": "6vlPNnaEH66z",
        "colab_type": "code",
        "colab": {}
      },
      "source": [
        "from statsmodels.tsa.seasonal import seasonal_decompose"
      ],
      "execution_count": 0,
      "outputs": []
    },
    {
      "cell_type": "code",
      "metadata": {
        "id": "vBun7CjzL9Qu",
        "colab_type": "code",
        "outputId": "e785e8cd-260e-4eaa-d1da-529e7970877b",
        "colab": {
          "base_uri": "https://localhost:8080/",
          "height": 301
        }
      },
      "source": [
        "results = seasonal_decompose(dataset['dust1'])\n",
        "results.plot();"
      ],
      "execution_count": 12,
      "outputs": [
        {
          "output_type": "display_data",
          "data": {
            "image/png": "[encoded data removed]",
            "text/plain": [
              "<Figure size 432x288 with 4 Axes>"
            ]
          },
          "metadata": {
            "tags": [],
            "needs_background": "light"
          }
        }
      ]
    },
    {
      "cell_type": "code",
      "metadata": {
        "id": "DOKs5xPuNBwn",
        "colab_type": "code",
        "outputId": "adf13f89-7025-49d2-ad35-cd58de50c8ad",
        "colab": {
          "base_uri": "https://localhost:8080/",
          "height": 300
        }
      },
      "source": [
        "results = seasonal_decompose(dataset['dust2'])\n",
        "results.plot();"
      ],
      "execution_count": 13,
      "outputs": [
        {
          "output_type": "display_data",
          "data": {
            "image/png": "[encoded data removed]",
            "text/plain": [
              "<Figure size 432x288 with 4 Axes>"
            ]
          },
          "metadata": {
            "tags": [],
            "needs_background": "light"
          }
        }
      ]
    },
    {
      "cell_type": "code",
      "metadata": {
        "id": "kl0-EBtiPHUm",
        "colab_type": "code",
        "colab": {}
      },
      "source": [
        "def convert(data, n_in=1, n_out=1, dropnan=True):\n",
        "    n_vars = 1\n",
        "    if type(data) is not list:\n",
        "        n_vars = data.shape[1]\n",
        "    df = pd.DataFrame(data)\n",
        "    cols, names = list(), list()\n",
        "    # input sequence\n",
        "    for i in range(n_in, 0, -1):\n",
        "        cols.append(df.shift(i))\n",
        "        names += [('var%d(t-%d)' % (j+1, i)) for j in range(n_vars)]\n",
        "    # forecast sequence (t, t+1, ... t+n)\n",
        "    for i in range(0, n_out):\n",
        "        cols.append(df.shift(-i))\n",
        "        if i == 0:\n",
        "            names += [('var%d(t)' % (j+1)) for j in range(n_vars)]\n",
        "        else:\n",
        "            names += [('var%d(t+%d)' % (j+1, i)) for j in range(n_vars)]\n",
        "    # put it all together\n",
        "    total = pd.concat(cols, axis=1)\n",
        "    total.columns = names\n",
        "    # drop rows with NaN values\n",
        "    if dropnan:\n",
        "        total.dropna(inplace=True)\n",
        "    return total"
      ],
      "execution_count": 0,
      "outputs": []
    },
    {
      "cell_type": "code",
      "metadata": {
        "id": "fhE-NW0EOwGV",
        "colab_type": "code",
        "outputId": "a8d23cb7-dab7-4d17-8934-5e9c194da477",
        "colab": {
          "base_uri": "https://localhost:8080/",
          "height": 204
        }
      },
      "source": [
        "dataset1 = dataset.drop('dust2', axis=1)\n",
        "dataset1.head(4)"
      ],
      "execution_count": 15,
      "outputs": [
        {
          "output_type": "execute_result",
          "data": {
            "text/html": [
              "<div>\n",
              "<style scoped>\n",
              "    .dataframe tbody tr th:only-of-type {\n",
              "        vertical-align: middle;\n",
              "    }\n",
              "\n",
              "    .dataframe tbody tr th {\n",
              "        vertical-align: top;\n",
              "    }\n",
              "\n",
              "    .dataframe thead th {\n",
              "        text-align: right;\n",
              "    }\n",
              "</style>\n",
              "<table border=\"1\" class=\"dataframe\">\n",
              "  <thead>\n",
              "    <tr style=\"text-align: right;\">\n",
              "      <th></th>\n",
              "      <th>temp</th>\n",
              "      <th>humidity</th>\n",
              "      <th>co</th>\n",
              "      <th>no2</th>\n",
              "      <th>dust1</th>\n",
              "    </tr>\n",
              "    <tr>\n",
              "      <th>Date</th>\n",
              "      <th></th>\n",
              "      <th></th>\n",
              "      <th></th>\n",
              "      <th></th>\n",
              "      <th></th>\n",
              "    </tr>\n",
              "  </thead>\n",
              "  <tbody>\n",
              "    <tr>\n",
              "      <th>2020-05-16 02:00:00</th>\n",
              "      <td>22.950959</td>\n",
              "      <td>67.974414</td>\n",
              "      <td>43.505330</td>\n",
              "      <td>1.456759</td>\n",
              "      <td>25.574704</td>\n",
              "    </tr>\n",
              "    <tr>\n",
              "      <th>2020-05-16 03:00:00</th>\n",
              "      <td>22.202797</td>\n",
              "      <td>72.304196</td>\n",
              "      <td>43.569930</td>\n",
              "      <td>1.437290</td>\n",
              "      <td>25.710770</td>\n",
              "    </tr>\n",
              "    <tr>\n",
              "      <th>2020-05-16 04:00:00</th>\n",
              "      <td>22.026984</td>\n",
              "      <td>74.628571</td>\n",
              "      <td>43.969841</td>\n",
              "      <td>1.325508</td>\n",
              "      <td>56.169221</td>\n",
              "    </tr>\n",
              "    <tr>\n",
              "      <th>2020-05-16 05:00:00</th>\n",
              "      <td>22.000000</td>\n",
              "      <td>75.634615</td>\n",
              "      <td>44.000000</td>\n",
              "      <td>1.131521</td>\n",
              "      <td>89.782406</td>\n",
              "    </tr>\n",
              "  </tbody>\n",
              "</table>\n",
              "</div>"
            ],
            "text/plain": [
              "                          temp   humidity         co       no2      dust1\n",
              "Date                                                                     \n",
              "2020-05-16 02:00:00  22.950959  67.974414  43.505330  1.456759  25.574704\n",
              "2020-05-16 03:00:00  22.202797  72.304196  43.569930  1.437290  25.710770\n",
              "2020-05-16 04:00:00  22.026984  74.628571  43.969841  1.325508  56.169221\n",
              "2020-05-16 05:00:00  22.000000  75.634615  44.000000  1.131521  89.782406"
            ]
          },
          "metadata": {
            "tags": []
          },
          "execution_count": 15
        }
      ]
    },
    {
      "cell_type": "code",
      "metadata": {
        "id": "GYvbF_ADPCtK",
        "colab_type": "code",
        "outputId": "4d2e593f-0d2f-487c-e303-f45f4b739db5",
        "colab": {
          "base_uri": "https://localhost:8080/",
          "height": 204
        }
      },
      "source": [
        "dataset2 = dataset.drop('dust1', axis=1)\n",
        "dataset2.head(4)"
      ],
      "execution_count": 16,
      "outputs": [
        {
          "output_type": "execute_result",
          "data": {
            "text/html": [
              "<div>\n",
              "<style scoped>\n",
              "    .dataframe tbody tr th:only-of-type {\n",
              "        vertical-align: middle;\n",
              "    }\n",
              "\n",
              "    .dataframe tbody tr th {\n",
              "        vertical-align: top;\n",
              "    }\n",
              "\n",
              "    .dataframe thead th {\n",
              "        text-align: right;\n",
              "    }\n",
              "</style>\n",
              "<table border=\"1\" class=\"dataframe\">\n",
              "  <thead>\n",
              "    <tr style=\"text-align: right;\">\n",
              "      <th></th>\n",
              "      <th>temp</th>\n",
              "      <th>humidity</th>\n",
              "      <th>co</th>\n",
              "      <th>no2</th>\n",
              "      <th>dust2</th>\n",
              "    </tr>\n",
              "    <tr>\n",
              "      <th>Date</th>\n",
              "      <th></th>\n",
              "      <th></th>\n",
              "      <th></th>\n",
              "      <th></th>\n",
              "      <th></th>\n",
              "    </tr>\n",
              "  </thead>\n",
              "  <tbody>\n",
              "    <tr>\n",
              "      <th>2020-05-16 02:00:00</th>\n",
              "      <td>22.950959</td>\n",
              "      <td>67.974414</td>\n",
              "      <td>43.505330</td>\n",
              "      <td>1.456759</td>\n",
              "      <td>35.978933</td>\n",
              "    </tr>\n",
              "    <tr>\n",
              "      <th>2020-05-16 03:00:00</th>\n",
              "      <td>22.202797</td>\n",
              "      <td>72.304196</td>\n",
              "      <td>43.569930</td>\n",
              "      <td>1.437290</td>\n",
              "      <td>36.077272</td>\n",
              "    </tr>\n",
              "    <tr>\n",
              "      <th>2020-05-16 04:00:00</th>\n",
              "      <td>22.026984</td>\n",
              "      <td>74.628571</td>\n",
              "      <td>43.969841</td>\n",
              "      <td>1.325508</td>\n",
              "      <td>78.278348</td>\n",
              "    </tr>\n",
              "    <tr>\n",
              "      <th>2020-05-16 05:00:00</th>\n",
              "      <td>22.000000</td>\n",
              "      <td>75.634615</td>\n",
              "      <td>44.000000</td>\n",
              "      <td>1.131521</td>\n",
              "      <td>124.723986</td>\n",
              "    </tr>\n",
              "  </tbody>\n",
              "</table>\n",
              "</div>"
            ],
            "text/plain": [
              "                          temp   humidity         co       no2       dust2\n",
              "Date                                                                      \n",
              "2020-05-16 02:00:00  22.950959  67.974414  43.505330  1.456759   35.978933\n",
              "2020-05-16 03:00:00  22.202797  72.304196  43.569930  1.437290   36.077272\n",
              "2020-05-16 04:00:00  22.026984  74.628571  43.969841  1.325508   78.278348\n",
              "2020-05-16 05:00:00  22.000000  75.634615  44.000000  1.131521  124.723986"
            ]
          },
          "metadata": {
            "tags": []
          },
          "execution_count": 16
        }
      ]
    },
    {
      "cell_type": "code",
      "metadata": {
        "id": "x7jFB-NZLZfJ",
        "colab_type": "code",
        "colab": {}
      },
      "source": [
        "from sklearn.preprocessing import MinMaxScaler\n",
        "values = dataset1.values\n",
        "# normalize features\n",
        "scaler = MinMaxScaler(feature_range=(0, 1))\n",
        "scaled_data = scaler.fit_transform(values)\n",
        "# frame as supervised learning\n",
        "reframed = convert(scaled_data)"
      ],
      "execution_count": 0,
      "outputs": []
    },
    {
      "cell_type": "code",
      "metadata": {
        "id": "CC-XIwYvPpSA",
        "colab_type": "code",
        "colab": {}
      },
      "source": [
        "# drop columns we don't want to predict\n",
        "reframed.drop(reframed.columns[[5,6,7,8]], axis=1, inplace=True)"
      ],
      "execution_count": 0,
      "outputs": []
    },
    {
      "cell_type": "code",
      "metadata": {
        "id": "ujurwRK3MejY",
        "colab_type": "code",
        "outputId": "bb6a1871-5fcc-4aff-92ef-81c87e819a4e",
        "colab": {
          "base_uri": "https://localhost:8080/",
          "height": 204
        }
      },
      "source": [
        "reframed.head()"
      ],
      "execution_count": 19,
      "outputs": [
        {
          "output_type": "execute_result",
          "data": {
            "text/html": [
              "<div>\n",
              "<style scoped>\n",
              "    .dataframe tbody tr th:only-of-type {\n",
              "        vertical-align: middle;\n",
              "    }\n",
              "\n",
              "    .dataframe tbody tr th {\n",
              "        vertical-align: top;\n",
              "    }\n",
              "\n",
              "    .dataframe thead th {\n",
              "        text-align: right;\n",
              "    }\n",
              "</style>\n",
              "<table border=\"1\" class=\"dataframe\">\n",
              "  <thead>\n",
              "    <tr style=\"text-align: right;\">\n",
              "      <th></th>\n",
              "      <th>var1(t-1)</th>\n",
              "      <th>var2(t-1)</th>\n",
              "      <th>var3(t-1)</th>\n",
              "      <th>var4(t-1)</th>\n",
              "      <th>var5(t-1)</th>\n",
              "      <th>var5(t)</th>\n",
              "    </tr>\n",
              "  </thead>\n",
              "  <tbody>\n",
              "    <tr>\n",
              "      <th>1</th>\n",
              "      <td>0.196735</td>\n",
              "      <td>0.648653</td>\n",
              "      <td>0.344431</td>\n",
              "      <td>0.917015</td>\n",
              "      <td>0.258142</td>\n",
              "      <td>0.259714</td>\n",
              "    </tr>\n",
              "    <tr>\n",
              "      <th>2</th>\n",
              "      <td>0.166436</td>\n",
              "      <td>0.704367</td>\n",
              "      <td>0.346663</td>\n",
              "      <td>0.903566</td>\n",
              "      <td>0.259714</td>\n",
              "      <td>0.611632</td>\n",
              "    </tr>\n",
              "    <tr>\n",
              "      <th>3</th>\n",
              "      <td>0.159316</td>\n",
              "      <td>0.734277</td>\n",
              "      <td>0.360482</td>\n",
              "      <td>0.826347</td>\n",
              "      <td>0.611632</td>\n",
              "      <td>1.000000</td>\n",
              "    </tr>\n",
              "    <tr>\n",
              "      <th>4</th>\n",
              "      <td>0.158223</td>\n",
              "      <td>0.747222</td>\n",
              "      <td>0.361524</td>\n",
              "      <td>0.692341</td>\n",
              "      <td>1.000000</td>\n",
              "      <td>0.945853</td>\n",
              "    </tr>\n",
              "    <tr>\n",
              "      <th>5</th>\n",
              "      <td>0.218245</td>\n",
              "      <td>0.682512</td>\n",
              "      <td>0.361710</td>\n",
              "      <td>0.630232</td>\n",
              "      <td>0.945853</td>\n",
              "      <td>0.306160</td>\n",
              "    </tr>\n",
              "  </tbody>\n",
              "</table>\n",
              "</div>"
            ],
            "text/plain": [
              "   var1(t-1)  var2(t-1)  var3(t-1)  var4(t-1)  var5(t-1)   var5(t)\n",
              "1   0.196735   0.648653   0.344431   0.917015   0.258142  0.259714\n",
              "2   0.166436   0.704367   0.346663   0.903566   0.259714  0.611632\n",
              "3   0.159316   0.734277   0.360482   0.826347   0.611632  1.000000\n",
              "4   0.158223   0.747222   0.361524   0.692341   1.000000  0.945853\n",
              "5   0.218245   0.682512   0.361710   0.630232   0.945853  0.306160"
            ]
          },
          "metadata": {
            "tags": []
          },
          "execution_count": 19
        }
      ]
    },
    {
      "cell_type": "code",
      "metadata": {
        "id": "1V806EXEQGKR",
        "colab_type": "code",
        "outputId": "95f405d1-5719-444b-a6fd-c5120f91e0a9",
        "colab": {
          "base_uri": "https://localhost:8080/",
          "height": 34
        }
      },
      "source": [
        "# split into train and test sets\n",
        "values = reframed.values\n",
        "n_train_hours = 160 - 24\n",
        "train = values[:n_train_hours, :]\n",
        "test = values[n_train_hours:, :]\n",
        "# split into input and outputs\n",
        "train_X, train_y = train[:, :-1], train[:, -1]\n",
        "test_X, test_y = test[:, :-1], test[:, -1]\n",
        "# reshape input to be 3D [samples, timesteps, features]\n",
        "train_X = train_X.reshape((train_X.shape[0], 1, train_X.shape[1]))\n",
        "test_X = test_X.reshape((test_X.shape[0], 1, test_X.shape[1]))\n",
        "print(train_X.shape, train_y.shape, test_X.shape, test_y.shape)"
      ],
      "execution_count": 20,
      "outputs": [
        {
          "output_type": "stream",
          "text": [
            "(136, 1, 5) (136,) (24, 1, 5) (24,)\n"
          ],
          "name": "stdout"
        }
      ]
    },
    {
      "cell_type": "code",
      "metadata": {
        "id": "JCqo5rNLWCov",
        "colab_type": "code",
        "colab": {
          "base_uri": "https://localhost:8080/",
          "height": 34
        },
        "outputId": "cbcf774e-46ef-4104-ed98-70703cb42ec2"
      },
      "source": [
        "from keras.models import Sequential\n",
        "from keras.layers import Dense\n",
        "from keras.layers import LSTM"
      ],
      "execution_count": 21,
      "outputs": [
        {
          "output_type": "stream",
          "text": [
            "Using TensorFlow backend.\n"
          ],
          "name": "stderr"
        }
      ]
    },
    {
      "cell_type": "code",
      "metadata": {
        "id": "vk2upOqEcmhp",
        "colab_type": "code",
        "colab": {}
      },
      "source": [
        "model = Sequential()\n",
        "model.add(LSTM(150, input_shape=(train_X.shape[1], train_X.shape[2])))\n",
        "model.add(Dense(1))\n",
        "model.compile(loss='mae', optimizer='adam')"
      ],
      "execution_count": 0,
      "outputs": []
    },
    {
      "cell_type": "code",
      "metadata": {
        "id": "B9Yb7BPQfEuk",
        "colab_type": "code",
        "colab": {
          "base_uri": "https://localhost:8080/",
          "height": 1000
        },
        "outputId": "2cc465a0-681f-4c10-b045-c801e84a0cea"
      },
      "source": [
        "history = model.fit(train_X, train_y, batch_size=32, epochs=50, validation_data=(test_X, test_y), verbose=2, shuffle=False)"
      ],
      "execution_count": 25,
      "outputs": [
        {
          "output_type": "stream",
          "text": [
            "Train on 136 samples, validate on 24 samples\n",
            "Epoch 1/50\n",
            " - 0s - loss: 0.0560 - val_loss: 0.0434\n",
            "Epoch 2/50\n",
            " - 0s - loss: 0.0557 - val_loss: 0.0409\n",
            "Epoch 3/50\n",
            " - 0s - loss: 0.0554 - val_loss: 0.0422\n",
            "Epoch 4/50\n",
            " - 0s - loss: 0.0554 - val_loss: 0.0430\n",
            "Epoch 5/50\n",
            " - 0s - loss: 0.0554 - val_loss: 0.0412\n",
            "Epoch 6/50\n",
            " - 0s - loss: 0.0553 - val_loss: 0.0415\n",
            "Epoch 7/50\n",
            " - 0s - loss: 0.0553 - val_loss: 0.0410\n",
            "Epoch 8/50\n",
            " - 0s - loss: 0.0553 - val_loss: 0.0401\n",
            "Epoch 9/50\n",
            " - 0s - loss: 0.0552 - val_loss: 0.0414\n",
            "Epoch 10/50\n",
            " - 0s - loss: 0.0553 - val_loss: 0.0418\n",
            "Epoch 11/50\n",
            " - 0s - loss: 0.0553 - val_loss: 0.0413\n",
            "Epoch 12/50\n",
            " - 0s - loss: 0.0552 - val_loss: 0.0404\n",
            "Epoch 13/50\n",
            " - 0s - loss: 0.0552 - val_loss: 0.0409\n",
            "Epoch 14/50\n",
            " - 0s - loss: 0.0551 - val_loss: 0.0415\n",
            "Epoch 15/50\n",
            " - 0s - loss: 0.0551 - val_loss: 0.0400\n",
            "Epoch 16/50\n",
            " - 0s - loss: 0.0551 - val_loss: 0.0419\n",
            "Epoch 17/50\n",
            " - 0s - loss: 0.0551 - val_loss: 0.0423\n",
            "Epoch 18/50\n",
            " - 0s - loss: 0.0551 - val_loss: 0.0409\n",
            "Epoch 19/50\n",
            " - 0s - loss: 0.0550 - val_loss: 0.0420\n",
            "Epoch 20/50\n",
            " - 0s - loss: 0.0550 - val_loss: 0.0417\n",
            "Epoch 21/50\n",
            " - 0s - loss: 0.0550 - val_loss: 0.0404\n",
            "Epoch 22/50\n",
            " - 0s - loss: 0.0550 - val_loss: 0.0416\n",
            "Epoch 23/50\n",
            " - 0s - loss: 0.0550 - val_loss: 0.0405\n",
            "Epoch 24/50\n",
            " - 0s - loss: 0.0549 - val_loss: 0.0419\n",
            "Epoch 25/50\n",
            " - 0s - loss: 0.0549 - val_loss: 0.0418\n",
            "Epoch 26/50\n",
            " - 0s - loss: 0.0549 - val_loss: 0.0421\n",
            "Epoch 27/50\n",
            " - 0s - loss: 0.0549 - val_loss: 0.0427\n",
            "Epoch 28/50\n",
            " - 0s - loss: 0.0549 - val_loss: 0.0399\n",
            "Epoch 29/50\n",
            " - 0s - loss: 0.0549 - val_loss: 0.0429\n",
            "Epoch 30/50\n",
            " - 0s - loss: 0.0549 - val_loss: 0.0419\n",
            "Epoch 31/50\n",
            " - 0s - loss: 0.0549 - val_loss: 0.0425\n",
            "Epoch 32/50\n",
            " - 0s - loss: 0.0548 - val_loss: 0.0421\n",
            "Epoch 33/50\n",
            " - 0s - loss: 0.0547 - val_loss: 0.0422\n",
            "Epoch 34/50\n",
            " - 0s - loss: 0.0548 - val_loss: 0.0419\n",
            "Epoch 35/50\n",
            " - 0s - loss: 0.0548 - val_loss: 0.0417\n",
            "Epoch 36/50\n",
            " - 0s - loss: 0.0547 - val_loss: 0.0420\n",
            "Epoch 37/50\n",
            " - 0s - loss: 0.0547 - val_loss: 0.0418\n",
            "Epoch 38/50\n",
            " - 0s - loss: 0.0547 - val_loss: 0.0419\n",
            "Epoch 39/50\n",
            " - 0s - loss: 0.0547 - val_loss: 0.0439\n",
            "Epoch 40/50\n",
            " - 0s - loss: 0.0548 - val_loss: 0.0397\n",
            "Epoch 41/50\n",
            " - 0s - loss: 0.0550 - val_loss: 0.0444\n",
            "Epoch 42/50\n",
            " - 0s - loss: 0.0549 - val_loss: 0.0400\n",
            "Epoch 43/50\n",
            " - 0s - loss: 0.0550 - val_loss: 0.0427\n",
            "Epoch 44/50\n",
            " - 0s - loss: 0.0548 - val_loss: 0.0415\n",
            "Epoch 45/50\n",
            " - 0s - loss: 0.0547 - val_loss: 0.0420\n",
            "Epoch 46/50\n",
            " - 0s - loss: 0.0546 - val_loss: 0.0433\n",
            "Epoch 47/50\n",
            " - 0s - loss: 0.0546 - val_loss: 0.0410\n",
            "Epoch 48/50\n",
            " - 0s - loss: 0.0547 - val_loss: 0.0448\n",
            "Epoch 49/50\n",
            " - 0s - loss: 0.0547 - val_loss: 0.0410\n",
            "Epoch 50/50\n",
            " - 0s - loss: 0.0546 - val_loss: 0.0427\n"
          ],
          "name": "stdout"
        }
      ]
    },
    {
      "cell_type": "code",
      "metadata": {
        "id": "ZlK4VDviCWjh",
        "colab_type": "code",
        "colab": {}
      },
      "source": [
        "yhat = model.predict(test_X)\n",
        "test_X = test_X.reshape((test_X.shape[0], test_X.shape[2]))"
      ],
      "execution_count": 0,
      "outputs": []
    },
    {
      "cell_type": "code",
      "metadata": {
        "id": "ws3nKDZiCnxK",
        "colab_type": "code",
        "colab": {}
      },
      "source": [
        "# invert scaling for forecast\n",
        "inv_yhat = np.concatenate((yhat, test_X[:, 1:]), axis=1)\n",
        "inv_yhat = scaler.inverse_transform(inv_yhat)\n",
        "inv_yhat = inv_yhat[:,0]"
      ],
      "execution_count": 0,
      "outputs": []
    },
    {
      "cell_type": "code",
      "metadata": {
        "id": "ebT9DRRNC41K",
        "colab_type": "code",
        "colab": {}
      },
      "source": [
        "# invert scaling for actual\n",
        "test_y = test_y.reshape((len(test_y), 1))\n",
        "inv_y = np.concatenate((test_y, test_X[:, 1:]), axis=1)\n",
        "inv_y = scaler.inverse_transform(inv_y)\n",
        "inv_y = inv_y[:,0]"
      ],
      "execution_count": 0,
      "outputs": []
    },
    {
      "cell_type": "code",
      "metadata": {
        "id": "FOXfh1OsDErt",
        "colab_type": "code",
        "colab": {
          "base_uri": "https://localhost:8080/",
          "height": 34
        },
        "outputId": "247a5f42-58ca-4ec2-d879-24cc7fc1d512"
      },
      "source": [
        "# calculate RMSE\n",
        "from sklearn.metrics import mean_squared_error\n",
        "rmse = np.sqrt(mean_squared_error(inv_y, inv_yhat))\n",
        "print('Test RMSE: %.3f' % rmse)"
      ],
      "execution_count": 31,
      "outputs": [
        {
          "output_type": "stream",
          "text": [
            "Test RMSE: 1.250\n"
          ],
          "name": "stdout"
        }
      ]
    },
    {
      "cell_type": "code",
      "metadata": {
        "id": "keoUN0WxHMy0",
        "colab_type": "code",
        "colab": {
          "base_uri": "https://localhost:8080/",
          "height": 483
        },
        "outputId": "e4a4b7d8-d489-4a4b-f5e4-ce07c655404d"
      },
      "source": [
        "df1 = pd.DataFrame(data=inv_y)\n",
        "df1['predicted'] = pd.DataFrame(data=inv_yhat)\n",
        "df1.columns = ['given', 'predicted']\n",
        "df1.plot(figsize=(12,8));"
      ],
      "execution_count": 44,
      "outputs": [
        {
          "output_type": "display_data",
          "data": {
            "image/png": "[encoded data removed]",
            "text/plain": [
              "<Figure size 864x576 with 1 Axes>"
            ]
          },
          "metadata": {
            "tags": [],
            "needs_background": "light"
          }
        }
      ]
    }
  ]
}