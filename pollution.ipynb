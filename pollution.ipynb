{
  "nbformat": 4,
  "nbformat_minor": 0,
  "metadata": {
    "colab": {
      "name": "pollution.ipynb",
      "provenance": [],
      "collapsed_sections": [],
      "mount_file_id": "1f5Dv-ewXm2bbm-kLfkW1x1qCAG6K1Qgr",
      "authorship_tag": "ABX9TyMM/ijimlSIDxjuX6+hKN8A"
    },
    "kernelspec": {
      "name": "python3",
      "display_name": "Python 3"
    }
  },
  "cells": [
    {
      "cell_type": "markdown",
      "metadata": {
        "id": "NIFIjXff8J9F",
        "colab_type": "text"
      },
      "source": [
        "# **Importing libraries and dataset**"
      ]
    },
    {
      "cell_type": "code",
      "metadata": {
        "id": "Q5SLX17v5z3H",
        "colab_type": "code",
        "colab": {}
      },
      "source": [
        "import numpy as np\n",
        "import matplotlib.pyplot as plt\n",
        "import pandas as pd"
      ],
      "execution_count": 0,
      "outputs": []
    },
    {
      "cell_type": "markdown",
      "metadata": {
        "id": "chpNsr1n8SgK",
        "colab_type": "text"
      },
      "source": [
        "# **DataFrame & arranging data**"
      ]
    },
    {
      "cell_type": "code",
      "metadata": {
        "id": "PFtWaCTeF-GE",
        "colab_type": "code",
        "colab": {}
      },
      "source": [
        "df = pd.read_csv('/content/drive/My Drive/NITD Internship/Data.csv', index_col='Date', parse_dates=True)"
      ],
      "execution_count": 0,
      "outputs": []
    },
    {
      "cell_type": "code",
      "metadata": {
        "id": "DzM5ldEg1EBB",
        "colab_type": "code",
        "colab": {}
      },
      "source": [
        "df.drop('Unnamed: 0', axis=1, inplace=True)"
      ],
      "execution_count": 0,
      "outputs": []
    },
    {
      "cell_type": "code",
      "metadata": {
        "id": "ylK64SEO3Dqo",
        "colab_type": "code",
        "colab": {
          "base_uri": "https://localhost:8080/",
          "height": 235
        },
        "outputId": "2c01ef8a-bb6e-49b3-ce04-1c0de361c97c"
      },
      "source": [
        "df.head()"
      ],
      "execution_count": 17,
      "outputs": [
        {
          "output_type": "execute_result",
          "data": {
            "text/html": [
              "<div>\n",
              "<style scoped>\n",
              "    .dataframe tbody tr th:only-of-type {\n",
              "        vertical-align: middle;\n",
              "    }\n",
              "\n",
              "    .dataframe tbody tr th {\n",
              "        vertical-align: top;\n",
              "    }\n",
              "\n",
              "    .dataframe thead th {\n",
              "        text-align: right;\n",
              "    }\n",
              "</style>\n",
              "<table border=\"1\" class=\"dataframe\">\n",
              "  <thead>\n",
              "    <tr style=\"text-align: right;\">\n",
              "      <th></th>\n",
              "      <th>Temperature</th>\n",
              "      <th>Humidity</th>\n",
              "      <th>Carbon Monoxide</th>\n",
              "      <th>Nitrogen Dioxide</th>\n",
              "      <th>Dust (PM2.5)</th>\n",
              "      <th>Dust (PM10)</th>\n",
              "    </tr>\n",
              "    <tr>\n",
              "      <th>Date</th>\n",
              "      <th></th>\n",
              "      <th></th>\n",
              "      <th></th>\n",
              "      <th></th>\n",
              "      <th></th>\n",
              "      <th></th>\n",
              "    </tr>\n",
              "  </thead>\n",
              "  <tbody>\n",
              "    <tr>\n",
              "      <th>2020-04-16 11:08:00</th>\n",
              "      <td>30</td>\n",
              "      <td>36</td>\n",
              "      <td>44</td>\n",
              "      <td>1.42</td>\n",
              "      <td>37</td>\n",
              "      <td>52</td>\n",
              "    </tr>\n",
              "    <tr>\n",
              "      <th>2020-04-16 11:08:00</th>\n",
              "      <td>30</td>\n",
              "      <td>36</td>\n",
              "      <td>44</td>\n",
              "      <td>1.42</td>\n",
              "      <td>37</td>\n",
              "      <td>52</td>\n",
              "    </tr>\n",
              "    <tr>\n",
              "      <th>2020-04-16 11:07:00</th>\n",
              "      <td>30</td>\n",
              "      <td>36</td>\n",
              "      <td>44</td>\n",
              "      <td>1.41</td>\n",
              "      <td>37</td>\n",
              "      <td>52</td>\n",
              "    </tr>\n",
              "    <tr>\n",
              "      <th>2020-04-16 11:07:00</th>\n",
              "      <td>30</td>\n",
              "      <td>36</td>\n",
              "      <td>44</td>\n",
              "      <td>1.41</td>\n",
              "      <td>37</td>\n",
              "      <td>52</td>\n",
              "    </tr>\n",
              "    <tr>\n",
              "      <th>2020-04-16 11:07:00</th>\n",
              "      <td>30</td>\n",
              "      <td>36</td>\n",
              "      <td>44</td>\n",
              "      <td>1.42</td>\n",
              "      <td>37</td>\n",
              "      <td>52</td>\n",
              "    </tr>\n",
              "  </tbody>\n",
              "</table>\n",
              "</div>"
            ],
            "text/plain": [
              "                     Temperature  Humidity  ...  Dust (PM2.5)  Dust (PM10)\n",
              "Date                                        ...                           \n",
              "2020-04-16 11:08:00           30        36  ...            37           52\n",
              "2020-04-16 11:08:00           30        36  ...            37           52\n",
              "2020-04-16 11:07:00           30        36  ...            37           52\n",
              "2020-04-16 11:07:00           30        36  ...            37           52\n",
              "2020-04-16 11:07:00           30        36  ...            37           52\n",
              "\n",
              "[5 rows x 6 columns]"
            ]
          },
          "metadata": {
            "tags": []
          },
          "execution_count": 17
        }
      ]
    },
    {
      "cell_type": "markdown",
      "metadata": {
        "id": "gVNequJQ8bKR",
        "colab_type": "text"
      },
      "source": [
        "# **Handling missing data and replacing them with the column mean**"
      ]
    },
    {
      "cell_type": "code",
      "metadata": {
        "id": "jWADxa403arH",
        "colab_type": "code",
        "colab": {}
      },
      "source": [
        "df.fillna(df.mean(),inplace=True)"
      ],
      "execution_count": 0,
      "outputs": []
    },
    {
      "cell_type": "markdown",
      "metadata": {
        "id": "dhJKJqch8m-v",
        "colab_type": "text"
      },
      "source": [
        "# **Resampling of data**"
      ]
    },
    {
      "cell_type": "code",
      "metadata": {
        "id": "WFjvp3ER4pzE",
        "colab_type": "code",
        "colab": {}
      },
      "source": [
        "# keeping only one occurence of date time and merging duplicates by doing mean of them\n",
        "df = df.groupby('Date').mean()"
      ],
      "execution_count": 0,
      "outputs": []
    },
    {
      "cell_type": "code",
      "metadata": {
        "id": "ES7WHnYA4qp9",
        "colab_type": "code",
        "colab": {
          "base_uri": "https://localhost:8080/",
          "height": 235
        },
        "outputId": "3b54c2f4-315d-48af-e9cf-6c656efb69e4"
      },
      "source": [
        "df.head()"
      ],
      "execution_count": 26,
      "outputs": [
        {
          "output_type": "execute_result",
          "data": {
            "text/html": [
              "<div>\n",
              "<style scoped>\n",
              "    .dataframe tbody tr th:only-of-type {\n",
              "        vertical-align: middle;\n",
              "    }\n",
              "\n",
              "    .dataframe tbody tr th {\n",
              "        vertical-align: top;\n",
              "    }\n",
              "\n",
              "    .dataframe thead th {\n",
              "        text-align: right;\n",
              "    }\n",
              "</style>\n",
              "<table border=\"1\" class=\"dataframe\">\n",
              "  <thead>\n",
              "    <tr style=\"text-align: right;\">\n",
              "      <th></th>\n",
              "      <th>Temperature</th>\n",
              "      <th>Humidity</th>\n",
              "      <th>Carbon Monoxide</th>\n",
              "      <th>Nitrogen Dioxide</th>\n",
              "      <th>Dust (PM2.5)</th>\n",
              "      <th>Dust (PM10)</th>\n",
              "    </tr>\n",
              "    <tr>\n",
              "      <th>Date</th>\n",
              "      <th></th>\n",
              "      <th></th>\n",
              "      <th></th>\n",
              "      <th></th>\n",
              "      <th></th>\n",
              "      <th></th>\n",
              "    </tr>\n",
              "  </thead>\n",
              "  <tbody>\n",
              "    <tr>\n",
              "      <th>2020-03-29 13:48:00</th>\n",
              "      <td>31.0</td>\n",
              "      <td>18.0</td>\n",
              "      <td>44.0</td>\n",
              "      <td>1.460000</td>\n",
              "      <td>12.000000</td>\n",
              "      <td>17.000000</td>\n",
              "    </tr>\n",
              "    <tr>\n",
              "      <th>2020-03-29 13:49:00</th>\n",
              "      <td>31.0</td>\n",
              "      <td>18.0</td>\n",
              "      <td>43.5</td>\n",
              "      <td>1.475000</td>\n",
              "      <td>12.166667</td>\n",
              "      <td>17.166667</td>\n",
              "    </tr>\n",
              "    <tr>\n",
              "      <th>2020-03-29 13:50:00</th>\n",
              "      <td>31.0</td>\n",
              "      <td>18.0</td>\n",
              "      <td>43.5</td>\n",
              "      <td>1.471667</td>\n",
              "      <td>13.000000</td>\n",
              "      <td>18.000000</td>\n",
              "    </tr>\n",
              "    <tr>\n",
              "      <th>2020-03-29 13:51:00</th>\n",
              "      <td>31.0</td>\n",
              "      <td>18.0</td>\n",
              "      <td>43.5</td>\n",
              "      <td>1.456667</td>\n",
              "      <td>13.000000</td>\n",
              "      <td>18.000000</td>\n",
              "    </tr>\n",
              "    <tr>\n",
              "      <th>2020-03-29 13:52:00</th>\n",
              "      <td>31.2</td>\n",
              "      <td>18.0</td>\n",
              "      <td>43.6</td>\n",
              "      <td>1.450000</td>\n",
              "      <td>13.000000</td>\n",
              "      <td>18.000000</td>\n",
              "    </tr>\n",
              "  </tbody>\n",
              "</table>\n",
              "</div>"
            ],
            "text/plain": [
              "                     Temperature  Humidity  ...  Dust (PM2.5)  Dust (PM10)\n",
              "Date                                        ...                           \n",
              "2020-03-29 13:48:00         31.0      18.0  ...     12.000000    17.000000\n",
              "2020-03-29 13:49:00         31.0      18.0  ...     12.166667    17.166667\n",
              "2020-03-29 13:50:00         31.0      18.0  ...     13.000000    18.000000\n",
              "2020-03-29 13:51:00         31.0      18.0  ...     13.000000    18.000000\n",
              "2020-03-29 13:52:00         31.2      18.0  ...     13.000000    18.000000\n",
              "\n",
              "[5 rows x 6 columns]"
            ]
          },
          "metadata": {
            "tags": []
          },
          "execution_count": 26
        }
      ]
    },
    {
      "cell_type": "markdown",
      "metadata": {
        "id": "sws-Wm69Izpd",
        "colab_type": "text"
      },
      "source": [
        "**Visualization**"
      ]
    },
    {
      "cell_type": "markdown",
      "metadata": {
        "id": "9ktzwqgo8ryI",
        "colab_type": "text"
      },
      "source": [
        "# **Data Visualization**"
      ]
    },
    {
      "cell_type": "code",
      "metadata": {
        "id": "lj4SnauQ4rcm",
        "colab_type": "code",
        "colab": {
          "base_uri": "https://localhost:8080/",
          "height": 429
        },
        "outputId": "e461ca72-498a-4a41-9dea-c344d3c63c1e"
      },
      "source": [
        "graph = df[['Temperature','Humidity','Carbon Monoxide','Nitrogen Dioxide']].resample(rule='D').mean().plot.bar();"
      ],
      "execution_count": 84,
      "outputs": [
        {
          "output_type": "display_data",
          "data": {
            "image/png": "[encoded data removed]",
            "text/plain": [
              "<Figure size 864x360 with 1 Axes>"
            ]
          },
          "metadata": {
            "tags": [],
            "needs_background": "light"
          }
        }
      ]
    },
    {
      "cell_type": "code",
      "metadata": {
        "id": "ss0WzN2t5BVU",
        "colab_type": "code",
        "colab": {
          "base_uri": "https://localhost:8080/",
          "height": 429
        },
        "outputId": "95858088-edc5-437f-8584-1e2effc48f0a"
      },
      "source": [
        "graph = df[['Dust (PM2.5)','Dust (PM10)']].resample(rule='D').mean().plot.bar();\n",
        "graph.set(ylabel='Dust');"
      ],
      "execution_count": 83,
      "outputs": [
        {
          "output_type": "display_data",
          "data": {
            "image/png": "[encoded data removed]",
            "text/plain": [
              "<Figure size 864x360 with 1 Axes>"
            ]
          },
          "metadata": {
            "tags": [],
            "needs_background": "light"
          }
        }
      ]
    }
  ]
}